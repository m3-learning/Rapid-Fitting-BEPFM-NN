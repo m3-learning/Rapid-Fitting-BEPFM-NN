{
 "cells": [
  {
   "cell_type": "markdown",
   "metadata": {},
   "source": [
    "# 3. SHO Fitting in Pytorch\n"
   ]
  },
  {
   "cell_type": "code",
   "execution_count": null,
   "metadata": {},
   "outputs": [],
   "source": [
    "%load_ext autoreload\n",
    "%autoreload 2\n",
    "\n",
    "import numpy as np\n",
    "import os\n",
    "from m3util.viz.printing import printer\n",
    "from m3util.viz.style import set_style\n",
    "from m3util.ml.rand import set_seeds\n",
    "from m3util.util.IO import download_and_unzip\n",
    "from belearn.dataset.dataset import BE_Dataset\n",
    "from belearn.viz.viz import Viz\n",
    "from belearn.functions.sho import SHO_nn\n",
    "from belearn.dataset.analytics import print_mse\n",
    "from autophyslearn.postprocessing.complex import ComplexPostProcessor\n",
    "from autophyslearn.spectroscopic.nn import Multiscale1DFitter, Model\n",
    "\n",
    "\n",
    "printing = printer(basepath = './Figures/')\n",
    "\n",
    "\n",
    "set_style(\"printing\")\n",
    "set_seeds(seed=42)\n",
    "\n",
    "%matplotlib inline"
   ]
  },
  {
   "cell_type": "markdown",
   "metadata": {},
   "source": [
    "## Loads Data\n"
   ]
  },
  {
   "cell_type": "code",
   "execution_count": null,
   "metadata": {},
   "outputs": [],
   "source": [
    "# Specify the filename and the path to save the file\n",
    "filename = 'data_raw.h5'\n",
    "save_path = \"./Data\"\n",
    "\n",
    "data_path = save_path + \"/\" + filename"
   ]
  },
  {
   "cell_type": "code",
   "execution_count": null,
   "metadata": {},
   "outputs": [],
   "source": [
    "# instantiate the dataset object\n",
    "dataset = BE_Dataset(data_path, SHO_fit_func_LSQF=SHO_nn)\n",
    "\n",
    "# print the contents of the file\n",
    "dataset.print_be_tree()"
   ]
  },
  {
   "cell_type": "markdown",
   "metadata": {},
   "source": [
    "## Testing the Torch Function\n",
    "\n",
    "The function for a simple-harmonic oscillator needs to be recast in PyTorch. Here we prove that the PyTorch function is implemented identically to the Numpy model.\n",
    "\n",
    "Note: This uses the results from the least squares fitting LSQF results.\n"
   ]
  },
  {
   "cell_type": "code",
   "execution_count": null,
   "metadata": {},
   "outputs": [],
   "source": [
    "# insatiate the visualization object\n",
    "image_scalebar = [2000, 500, \"nm\", \"br\"]\n",
    "\n",
    "BE_viz = Viz(dataset, printing, verbose=True, \n",
    "             SHO_ranges = [(0,1.5e-4), (1.31e6, 1.33e6), (-300, 0), (-np.pi, np.pi)],\n",
    "             image_scalebar=image_scalebar)"
   ]
  },
  {
   "cell_type": "code",
   "execution_count": null,
   "metadata": {},
   "outputs": [],
   "source": [
    "true = {\"resampled\": False,\n",
    "        \"label\": \"Raw\",\n",
    "        \"noise\": 0, \n",
    "        \"measurement_state\": \"all\"}\n",
    "\n",
    "predicted = {\"fitter\": \"LSQF\", \"resampled\": False, \"label\": \"Raw\", \"scaled\": False, \"noise\" : 0}\n",
    "\n",
    "BE_viz.fit_tester(true, predicted, filename=\"Figure_3_1_PyTorch_fit_tester\")"
   ]
  },
  {
   "cell_type": "markdown",
   "metadata": {},
   "source": [
    "**Figure 3.1** Shows the result of the PyTorch function. The result based on the LSQF results shows that the PyTorch function is implemented correctly.\n"
   ]
  },
  {
   "cell_type": "markdown",
   "metadata": {},
   "source": [
    "## Pytorch Model\n",
    "\n",
    "### Model Architecture\n"
   ]
  },
  {
   "cell_type": "markdown",
   "metadata": {},
   "source": [
    "### Scaling the Data\n",
    "\n",
    "When training the neural network it is useful to scale the data. We apply a global scaler such that the spectrum have a mean of 0 and a standard deviation of 1.\n",
    "\n",
    "#### Visualizing the Scaled Data\n"
   ]
  },
  {
   "cell_type": "code",
   "execution_count": null,
   "metadata": {},
   "outputs": [],
   "source": [
    "state = {\"fitter\": \"LSQF\", \"resampled\": True, \"scaled\": True, \"label\": \"Scaled\"}\n",
    "\n",
    "BE_viz.nn_checker(state, filename=\"Figure_3_2_Scaled Raw Data\")"
   ]
  },
  {
   "cell_type": "markdown",
   "metadata": {},
   "source": [
    "**Figure 3.2** shows the scaled data. The data is scaled to have a mean of 0 and a standard deviation of 1. This is done using a global scaler of the entire spectrum.\n"
   ]
  },
  {
   "cell_type": "code",
   "execution_count": null,
   "metadata": {},
   "outputs": [],
   "source": [
    "dataset.LSQF_phase_shift = np.pi / 2\n",
    "\n",
    "BE_viz.SHO_hist(\n",
    "    dataset.SHO_fit_results(), filename=\"Figure_3_3_Phase_Shifted_Scaled_Histograms\"\n",
    ")"
   ]
  },
  {
   "cell_type": "markdown",
   "metadata": {},
   "source": [
    "**Figure 3.3** shows the histograms of the scaled a) amplitude, b) resonance frequency, c) quality factor, and d) phase. These are approximated from the LSQF. These are the scaled values that are predicted by the neural network. Note there is a transformation applied to the phase.\n"
   ]
  },
  {
   "cell_type": "markdown",
   "metadata": {},
   "source": [
    "### Training the Model\n",
    "\n",
    "We will train the model from scratch. Generally the model trains very well in a few epochs. This will take less than 5 minutes to train on a GPU.\n"
   ]
  },
  {
   "cell_type": "code",
   "execution_count": null,
   "metadata": {},
   "outputs": [],
   "source": [
    "set_seeds(seed=42)\n",
    "\n",
    "postprocessor = ComplexPostProcessor(dataset)\n",
    "\n",
    "model_ = Multiscale1DFitter(SHO_nn, # function \n",
    "                            dataset.frequency_bin, # x data\n",
    "                            2, # input channels\n",
    "                            4, # output channels\n",
    "                            dataset.SHO_scaler, \n",
    "                            postprocessor)\n",
    "\n",
    "# instantiate the model\n",
    "model = Model(model_, dataset, training=True, model_basename=\"SHO_Fitter_original_data\", datafed_path = \"2024_SHO_Fitting/Original_NN_SHO_Fitter\", script_path = f\"{os.getcwd()}/3_Pytorch_SHO_Fitter.ipynb\")"
   ]
  },
  {
   "cell_type": "code",
   "execution_count": null,
   "metadata": {},
   "outputs": [],
   "source": [
    "# constructs a test train split\n",
    "X_train, X_test, y_train, y_test = dataset.test_train_split_(shuffle=True)"
   ]
  },
  {
   "cell_type": "code",
   "execution_count": null,
   "metadata": {},
   "outputs": [],
   "source": [
    "train = True\n",
    "\n",
    "if train:\n",
    "    # fits the model\n",
    "    model.fit(\n",
    "        dataset.X_train,\n",
    "        500,\n",
    "        optimizer=\"Adam\",\n",
    "        epochs = 5,\n",
    "    )\n",
    "else:\n",
    "    model.load(\n",
    "        \"/home/ferroelectric/m3_learning/m3_learning/papers/2023_Rapid_Fitting/Trained Models/SHO Fitter/SHO_Fitter_original_data_model_epoch_5_train_loss_0.0449272525189978.pth\"\n",
    "    )"
   ]
  },
  {
   "cell_type": "markdown",
   "metadata": {},
   "source": [
    "### Evaluate the Neural Network Results\n",
    "\n",
    "It is always recommended to validate that the autoencoder is working correctly. We can do this by comparing the different stages of the autoencoder including the raw data, the generated curves.\n"
   ]
  },
  {
   "cell_type": "code",
   "execution_count": null,
   "metadata": {},
   "outputs": [],
   "source": [
    "d1, d2, index1, mse1 = BE_viz.bmw_nn(\n",
    "    X_train,\n",
    "    prediction=model,\n",
    "    out_state={\"scaled\": True, \"raw_format\": \"complex\"},\n",
    "    returns=True,\n",
    "    filename=\"Figure_10_NN_validation_Train\",\n",
    ")"
   ]
  },
  {
   "cell_type": "markdown",
   "metadata": {},
   "source": [
    "**Figure 3.4** Raw data and reconstruction of the autoendcoder for the training data. Shows the a) best, b) median, and c) worst reconstruction of the training data.\n"
   ]
  },
  {
   "cell_type": "code",
   "execution_count": null,
   "metadata": {},
   "outputs": [],
   "source": [
    "d1, d2, index1, mse1 = BE_viz.bmw_nn(\n",
    "    X_test,\n",
    "    prediction=model,\n",
    "    out_state={\"scaled\": True, \"measurement State\": \"complex\"},\n",
    "    returns=True,\n",
    "    filename=\"Figure_11_NN_validation_test\",\n",
    ")"
   ]
  },
  {
   "cell_type": "markdown",
   "metadata": {},
   "source": [
    "**Figure 3.5** Raw data and reconstruction of the autoendcoder for the test data. Shows the a) best, b) median, and c) worst reconstruction of the test data.\n"
   ]
  },
  {
   "cell_type": "code",
   "execution_count": null,
   "metadata": {},
   "outputs": [],
   "source": [
    "state = {\n",
    "    \"fitter\": \"LSQF\",\n",
    "    \"raw_format\": \"complex\",\n",
    "    \"resampled\": False,\n",
    "    \"scaled\": True,\n",
    "    \"output_shape\": \"index\",\n",
    "}\n",
    "\n",
    "X_data, Y_data = dataset.NN_data()\n",
    "\n",
    "d1, d2, index1, mse1 = BE_viz.bmw_nn(\n",
    "    state,\n",
    "    prediction=model,\n",
    "    out_state={\"scaled\": True, \"measurement State\": \"complex\"},\n",
    "    returns=True,\n",
    "    filename=\"Figure_12_NN_validation_full_data\",\n",
    ")"
   ]
  },
  {
   "cell_type": "markdown",
   "metadata": {},
   "source": [
    "**Figure 3.6** Raw data and reconstruction of the autoendcoder for the entire data. Shows the a) best, b) median, and c) worst reconstruction of the entire data.\n"
   ]
  },
  {
   "cell_type": "markdown",
   "metadata": {},
   "source": [
    "### Calculate the MSE error\n",
    "\n",
    "We can calculate the MSE error for the training, test, and entire data set.\n"
   ]
  },
  {
   "cell_type": "code",
   "execution_count": null,
   "metadata": {},
   "outputs": [],
   "source": [
    "X_data, Y_data = dataset.NN_data()\n",
    "LSQF_ = {'resampled': True,\n",
    "                'raw_format': 'complex',\n",
    "                'fitter': 'LSQF',\n",
    "                'scaled': True,\n",
    "                'output_shape': 'index',\n",
    "                'measurement_state': 'all',\n",
    "                'resampled_bins': 165,\n",
    "                'LSQF_phase_shift': 1.5707963267948966,\n",
    "                'NN_phase_shift': None,\n",
    "                'noise': 0}\n",
    "\n",
    "data = (LSQF_, X_data, X_test, X_train)\n",
    "labels = [\"LSQF\", \"Full Data\", \"Test Data\", \"Train Data\"]\n",
    "\n",
    "print_mse(model_, model, data, labels)"
   ]
  },
  {
   "cell_type": "markdown",
   "metadata": {},
   "source": [
    "From here on out we will assume that the autoencoder is working correctly, and is not overfit. This is a good assumption because the results are more or less the same for the training, test, and entire data set.\n",
    "\n",
    "We note that the MSE error is not a true indicator that the model is doing a better job extracting the physics parameters of the data. "
   ]
  },
  {
   "cell_type": "markdown",
   "metadata": {},
   "source": [
    "### GPU Inference Speedtest\n",
    "\n",
    "Here we show the speedtest for the GPU. This is done using the torch.cuda.synchronize() function. This is used to ensure that the GPU is done processing before the timer is stopped.\n"
   ]
  },
  {
   "cell_type": "code",
   "execution_count": null,
   "metadata": {},
   "outputs": [],
   "source": [
    "X_data, Y_data = dataset.NN_data()\n",
    "\n",
    "model.inference_timer(X_data, batch_size=1000)"
   ]
  },
  {
   "cell_type": "markdown",
   "metadata": {},
   "source": [
    "### Histogram of Fit Results\n",
    "\n",
    "It is useful to view the histogram of the fitting results to apply any necessary phase shifts, and to see if the results are reasonable.\n"
   ]
  },
  {
   "cell_type": "code",
   "execution_count": null,
   "metadata": {},
   "outputs": [],
   "source": [
    "# we will add the appropriate phase shift to the dataset based on the fix seed,\n",
    "# If your seed is different the results might vary\n",
    "dataset.NN_phase_shift = np.pi/2 \n",
    "\n",
    "# you can view the test and training dataset by replacing X_data with X_test or X_train\n",
    "pred_data, scaled_param, parm = model.predict(X_data)\n",
    "\n",
    "BE_viz.SHO_hist(parm, filename=\"Figure_13_NN_Unscaled_Parameters_Histograms\")"
   ]
  },
  {
   "cell_type": "markdown",
   "metadata": {},
   "source": [
    "**Figure 3.7** Histogram of the fit results for the a) amplitude, b) resonance frequency, c) quality factor, and d) phase.\n"
   ]
  },
  {
   "cell_type": "code",
   "execution_count": null,
   "metadata": {},
   "outputs": [],
   "source": [
    "out = dataset.SHO_scaler.transform(parm)\n",
    "\n",
    "BE_viz.SHO_hist(out, filename=\"Figure_13_NN_scaled_Parameters_Histograms\", scaled=True)"
   ]
  },
  {
   "cell_type": "markdown",
   "metadata": {},
   "source": [
    "**Figure 3.8** Histogram of the fit results for the a) amplitude, b) resonance frequency, c) quality factor, and d) phase. The histograms show the scaled parameters.\n"
   ]
  },
  {
   "cell_type": "code",
   "execution_count": null,
   "metadata": {},
   "outputs": [],
   "source": [
    "# you can view the test and training dataset by replacing X_data with X_test or X_train\n",
    "pred_data, scaled_param, parm = model.predict(X_data)\n",
    "\n",
    "BE_viz.SHO_switching_maps(parm, filename=\"Figure_15_NN_Switching_Maps\")"
   ]
  },
  {
   "cell_type": "markdown",
   "metadata": {},
   "source": [
    "**Figure 3.9** Snapshots of the amplitude, resonance frequency, quality factor, and phase of the piezoresponse during ferroelectric switching."
   ]
  },
  {
   "cell_type": "markdown",
   "metadata": {},
   "source": [
    "## SHO Fitting Movies"
   ]
  },
  {
   "cell_type": "code",
   "execution_count": null,
   "metadata": {},
   "outputs": [],
   "source": [
    "# Insatiate the visualization object\n",
    "image_scalebar = [2000, 500, \"nm\", \"br\"]\n",
    "\n",
    "BE_viz = Viz(dataset, printing, verbose=True, \n",
    "             SHO_ranges = [(0,1.5e-4), (1.31e6, 1.33e6), (-300, 0), (-np.pi, np.pi)],\n",
    "             image_scalebar=image_scalebar)"
   ]
  },
  {
   "cell_type": "code",
   "execution_count": null,
   "metadata": {},
   "outputs": [],
   "source": [
    "BE_viz.SHO_fit_movie_images(noise = 0, \n",
    "                            models = [model],\n",
    "                            scalebar_= True, \n",
    "                            basepath = \"Movies/SHO_NN_\",  \n",
    "                            filename=\"SHO_NN\",\n",
    "                            phase_shift = [np.pi/2],)"
   ]
  },
  {
   "cell_type": "markdown",
   "metadata": {},
   "source": [
    "## Comparison SHO and Neural Network Fits\n",
    "\n",
    "3 graphs, best, median, worst\n",
    "\n",
    "histograms of parameters.\n"
   ]
  },
  {
   "cell_type": "code",
   "execution_count": null,
   "metadata": {},
   "outputs": [],
   "source": [
    "# sets the phase shift of the dataset\n",
    "dataset.NN_phase_shift = np.pi/2\n",
    "dataset.LSQF_phase_shift = np.pi/2\n",
    "dataset.measurement_state = \"all\"\n",
    "\n",
    "# sets the true state which to compare the results.\n",
    "true_state = {\n",
    "    \"fitter\": \"LSQF\",\n",
    "    \"raw_format\": \"complex\",\n",
    "    \"resampled\": True,\n",
    "    \"scaled\": True,\n",
    "    \"output_shape\": \"index\",\n",
    "    \"measurement_state\": \"all\",\n",
    "}\n",
    "\n",
    "# sets the state of the output data\n",
    "out_state = {\"scaled\": True, \"raw_format\": \"magnitude spectrum\"}\n",
    "\n",
    "# sets the number of examples to get\n",
    "n = 1\n",
    "\n",
    "LSQF = BE_viz.get_best_median_worst(\n",
    "    true_state,\n",
    "    prediction={\"fitter\": \"LSQF\"},\n",
    "    out_state=out_state,\n",
    "    SHO_results=True,\n",
    "    n=n,\n",
    ")\n",
    "\n",
    "NN = BE_viz.get_best_median_worst(\n",
    "    true_state, prediction=model, out_state=out_state, SHO_results=True, n=n\n",
    ")\n",
    "\n",
    "data = (LSQF, NN)\n",
    "names = [\"LSQF\", \"NN\"]\n",
    "\n",
    "BE_viz.SHO_Fit_comparison(\n",
    "    data,\n",
    "    names,\n",
    "    model_comparison=[model, {\"fitter\": \"LSQF\"}],\n",
    "    out_state=out_state,\n",
    "    filename=\"Figure_14_LSQF_NN_bmw_comparison\",\n",
    "    verbose=False,\n",
    ")"
   ]
  },
  {
   "cell_type": "markdown",
   "metadata": {},
   "source": [
    "**Figure 3.10** Comparison of the a,b) best , c,d) median, and e,f) worst simple harmonic oscillator fits. a,c,e) are based on the fit results from the simple harmonic oscillator model, wherein b,d,f) are based on the neural network model. Generally speaking, all fits are good for both models on the as collected data."
   ]
  },
  {
   "cell_type": "markdown",
   "metadata": {},
   "source": [
    "### Statistics of the Results for Training, Validation, and Entire Dataset\n"
   ]
  },
  {
   "cell_type": "code",
   "execution_count": null,
   "metadata": {},
   "outputs": [],
   "source": [
    "true_state = {\n",
    "    \"fitter\": \"LSQF\",\n",
    "    \"raw_format\": \"complex\",\n",
    "    \"resampled\": True,\n",
    "    \"scaled\": True,\n",
    "    \"output_shape\": \"index\",\n",
    "    \"measurement_state\": \"all\",\n",
    "}\n",
    "\n",
    "\n",
    "BE_viz.violin_plot_comparison_SHO(true_state, model, X_data, filename=\"Figure_16_Violin\") \n"
   ]
  },
  {
   "cell_type": "markdown",
   "metadata": {},
   "source": [
    "**Figure 3.11** Violin plot showing the difference in the distribution for the fit results for the LSQF algorithm show in blue, and the NN shown in orange. "
   ]
  },
  {
   "cell_type": "markdown",
   "metadata": {},
   "source": [
    "### SHO Comparison Movie"
   ]
  },
  {
   "cell_type": "code",
   "execution_count": null,
   "metadata": {},
   "outputs": [],
   "source": [
    "BE_viz.SHO_fit_movie_images(noise = 0, \n",
    "                            models=[None, model], \n",
    "                            scalebar_= True, \n",
    "                            basepath = \"Movies/SHO_NN_LSQF_Compare_\",  \n",
    "                            filename=\"SHO_NN_LSQF_Compare\", \n",
    "                            labels = ['LSQF', 'NN'],\n",
    "                            phase_shift = [np.pi/2, np.pi/2])"
   ]
  },
  {
   "cell_type": "markdown",
   "metadata": {},
   "source": [
    "### Outliers Visualization\n",
    "\n",
    "Resonance outliers"
   ]
  },
  {
   "cell_type": "code",
   "execution_count": null,
   "metadata": {},
   "outputs": [],
   "source": [
    "\n",
    "dataset.measurement_state = \"all\"\n",
    "dataset.NN_phase_shift = np.pi/2\n",
    "dataset.LSQF_phase_shift = np.pi/2\n",
    "\n",
    "true_state = {\n",
    "    \"fitter\": \"LSQF\",\n",
    "    \"raw_format\": \"complex\",\n",
    "    \"resampled\": True,\n",
    "    \"scaled\": True,\n",
    "    \"output_shape\": \"index\",\n",
    "    \"measurement_state\": \"all\",\n",
    "}\n",
    "\n",
    "# gets the parameters from the SHO LSQF fit\n",
    "true = dataset.SHO_fit_results(state = true_state).reshape(-1, 4)\n",
    "\n",
    "# finds the index less than a certain value\n",
    "ind = np.argwhere(true[:,1]< -3).flatten()\n",
    "\n",
    "\n",
    "true_state = {\n",
    "    \"fitter\": \"LSQF\",\n",
    "    \"raw_format\": \"complex\",\n",
    "    \"resampled\": True,\n",
    "    \"scaled\": True,\n",
    "    \"output_shape\": \"index\",\n",
    "    \"measurement_state\": \"all\"\n",
    "}\n",
    "\n",
    "out_state = {\"raw_format\": \"magnitude spectrum\", \"measurement_state\": \"all\"}\n",
    "\n",
    "n = 1\n",
    "\n",
    "LSQF = BE_viz.get_best_median_worst(\n",
    "    true_state,\n",
    "    prediction={\"fitter\": \"LSQF\"},\n",
    "    out_state=out_state,\n",
    "    SHO_results=True,\n",
    "    n=n,\n",
    "    index = ind,\n",
    "    verbose = False\n",
    ")\n",
    "\n",
    "NN = BE_viz.get_best_median_worst(\n",
    "    true_state, prediction=model,\n",
    "    out_state=out_state, SHO_results=True, n=n, index = ind, verbose = False,\n",
    ")\n",
    "\n",
    "data = (LSQF, NN)\n",
    "names = [\"LSQF\", \"NN\"]\n",
    "\n",
    "BE_viz.SHO_Fit_comparison(\n",
    "    data,\n",
    "    names,\n",
    "    model_comparison=[model, {\"fitter\": \"LSQF\"}],\n",
    "    out_state=out_state,\n",
    "    filename=\"Figure_14_LSQF_NN_bmw_comparison\",\n",
    "    verbose = False\n",
    ")"
   ]
  },
  {
   "cell_type": "markdown",
   "metadata": {},
   "source": [
    "**Figure 3.12** One thing that was noticed was the LSQF results showed outliers for the Resonance. We find all values from the outlier distribtion from the LSQF, and plot the comparison of the a,b) best , c,d) median, and e,f) worst simple harmonic oscillator fits. a,c,e) are based on the fit results from the simple harmonic oscillator model, wherein b,d,f) are based on the neural network model. The neural network performs better in this distribution. It is worth noting that the best response is obtained when the amplitude, and thus the error, is small. "
   ]
  }
 ],
 "metadata": {
  "kernelspec": {
   "display_name": "Python 3 (ipykernel)",
   "language": "python",
   "name": "python3"
  },
  "language_info": {
   "codemirror_mode": {
    "name": "ipython",
    "version": 3
   },
   "file_extension": ".py",
   "mimetype": "text/x-python",
   "name": "python",
   "nbconvert_exporter": "python",
   "pygments_lexer": "ipython3",
   "version": "3.11.9"
  }
 },
 "nbformat": 4,
 "nbformat_minor": 4
}
