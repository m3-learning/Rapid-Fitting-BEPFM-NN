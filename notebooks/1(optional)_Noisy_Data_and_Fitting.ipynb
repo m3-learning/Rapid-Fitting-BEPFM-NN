{
 "cells": [
  {
   "cell_type": "markdown",
   "metadata": {},
   "source": [
    "# 1 Generate Noisy Data and Fitting\n",
    "\n",
    "This is an optional notebook that is used to generate noisy data for the manuscript. We note that we provide the output of this notebook directly as a download. \n",
    "\n",
    "This notebook is used to generate and fit all the data required for the paper. We will generate data for the following noise cases: \n",
    "\n",
    "1, 2, 3, 4, 5, 6, 7, where each case corresponds to a different noise level. "
   ]
  },
  {
   "cell_type": "markdown",
   "metadata": {},
   "source": [
    "## Imports"
   ]
  },
  {
   "cell_type": "code",
   "execution_count": null,
   "metadata": {},
   "outputs": [],
   "source": [
    "%load_ext autoreload\n",
    "%autoreload 2\n",
    "\n",
    "from m3util.util.IO import download_and_unzip\n",
    "from belearn.dataset.dataset import BE_Dataset\n",
    "import numpy as np\n"
   ]
  },
  {
   "cell_type": "markdown",
   "metadata": {
    "id": "Ol1F9fy7Mo1v"
   },
   "source": [
    "## Loading data for SHO fitting\n"
   ]
  },
  {
   "cell_type": "code",
   "execution_count": null,
   "metadata": {
    "colab": {
     "base_uri": "https://localhost:8080/",
     "height": 108
    },
    "id": "Or1SY2WdMrkA",
    "outputId": "796c070e-be63-43b5-96f0-e4c30b476c0c"
   },
   "outputs": [],
   "source": [
    "# Download the data file from Zenodo\n",
    "url = 'https://zenodo.org/record/7774788/files/PZT_2080_raw_data.h5?download=1'\n",
    "\n",
    "# Specify the filename and the path to save the file\n",
    "filename = '/data_raw.h5'\n",
    "save_path = './Data'\n",
    "\n",
    "# download the file\n",
    "download_and_unzip(filename, url, save_path)"
   ]
  },
  {
   "cell_type": "code",
   "execution_count": null,
   "metadata": {},
   "outputs": [],
   "source": [
    "data_path = save_path + '/' + filename\n",
    "\n",
    "# instantiate the dataset object\n",
    "dataset = BE_Dataset(data_path)\n",
    "\n",
    "# print the contents of the file\n",
    "dataset.print_be_tree()"
   ]
  },
  {
   "cell_type": "markdown",
   "metadata": {},
   "source": [
    "## Generates Noisy Data\n",
    "\n",
    "This function will generate noisy records and save them as an h5_main file in the USID format. This allows the data to be computed with the Pycroscopy SHO Fitter. "
   ]
  },
  {
   "cell_type": "code",
   "execution_count": null,
   "metadata": {},
   "outputs": [],
   "source": [
    "# calculates the standard deviation and uses that for the noise\n",
    "noise_STD = np.std(dataset.get_original_data)\n",
    "\n",
    "# prints the standard deviation\n",
    "print(noise_STD)"
   ]
  },
  {
   "cell_type": "code",
   "execution_count": null,
   "metadata": {},
   "outputs": [],
   "source": [
    "dataset.generate_noisy_data_records(noise_levels = np.arange(1,9), \n",
    "                                    verbose=True, \n",
    "                                    noise_STD=noise_STD)"
   ]
  },
  {
   "cell_type": "markdown",
   "metadata": {},
   "source": [
    "## SHO fits on all the datasets\n",
    "\n",
    "This will take some time, Each fit takes about 10 minutes to complete. "
   ]
  },
  {
   "cell_type": "code",
   "execution_count": null,
   "metadata": {},
   "outputs": [],
   "source": [
    "out = [f\"Noisy_Data_{i}\" for i in np.arange(1,9)]\n",
    "out.append(\"Raw_Data\")\n",
    "\n",
    "for data in out:\n",
    "    print(f\"Fitting {data}\")\n",
    "    dataset.SHO_Fitter(dataset = data, h5_sho_targ_grp = f\"{data}_SHO_Fit\", max_mem=1024*64, max_cores= 20)"
   ]
  },
  {
   "cell_type": "markdown",
   "metadata": {},
   "source": [
    "### Checks the results to make sure it was saved correctly"
   ]
  },
  {
   "cell_type": "code",
   "execution_count": null,
   "metadata": {},
   "outputs": [],
   "source": [
    "# print the contents of the file\n",
    "dataset.print_be_tree()"
   ]
  }
 ],
 "metadata": {
  "kernelspec": {
   "display_name": "Python 3 (ipykernel)",
   "language": "python",
   "name": "python3"
  },
  "language_info": {
   "codemirror_mode": {
    "name": "ipython",
    "version": 3
   },
   "file_extension": ".py",
   "mimetype": "text/x-python",
   "name": "python",
   "nbconvert_exporter": "python",
   "pygments_lexer": "ipython3",
   "version": "3.11.9"
  }
 },
 "nbformat": 4,
 "nbformat_minor": 4
}
