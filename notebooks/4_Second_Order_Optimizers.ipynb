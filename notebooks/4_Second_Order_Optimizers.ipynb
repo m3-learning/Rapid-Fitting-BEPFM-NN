{
 "cells": [
  {
   "cell_type": "markdown",
   "metadata": {},
   "source": [
    "# 4. Model Training with Second-Order Optimizers\n",
    "\n",
    "We can use second-order optimizers to improve the training precision and potentially get better fit results. "
   ]
  },
  {
   "cell_type": "code",
   "execution_count": null,
   "metadata": {},
   "outputs": [],
   "source": [
    "%load_ext autoreload\n",
    "%autoreload 2\n",
    "\n",
    "import os\n",
    "import numpy as np\n",
    "from m3util.viz.printing import printer\n",
    "from m3util.viz.style import set_style\n",
    "from m3util.ml.rand import set_seeds\n",
    "from m3util.ml.optimizers.AdaHessian import AdaHessian\n",
    "from m3util.ml.optimizers.TrustRegion import TRCG\n",
    "from m3util.util.IO import download_and_unzip, make_folder\n",
    "from belearn.dataset.dataset import BE_Dataset\n",
    "from belearn.viz.viz import Viz\n",
    "from belearn.functions.sho import SHO_nn\n",
    "from autophyslearn.postprocessing.complex import ComplexPostProcessor\n",
    "from autophyslearn.spectroscopic.nn import Multiscale1DFitter, Model\n",
    "\n",
    "\n",
    "printing = printer(basepath = './Figures/')\n",
    "\n",
    "set_style(\"printing\")\n",
    "set_seeds(seed=42)\n",
    "\n",
    "%matplotlib inline"
   ]
  },
  {
   "cell_type": "markdown",
   "metadata": {},
   "source": [
    "## Loads Data\n"
   ]
  },
  {
   "cell_type": "code",
   "execution_count": null,
   "metadata": {},
   "outputs": [],
   "source": [
    "# Specify the filename and the path to save the file\n",
    "filename = \"./data_raw.h5\"\n",
    "save_path = \"./Data\"\n",
    "\n",
    "\n",
    "data_path = save_path + \"/\" + filename\n",
    "\n",
    "# instantiate the dataset object\n",
    "dataset = BE_Dataset(data_path, SHO_fit_func_LSQF=SHO_nn)\n",
    "\n",
    "# print the contents of the file\n",
    "dataset.print_be_tree()"
   ]
  },
  {
   "cell_type": "code",
   "execution_count": null,
   "metadata": {},
   "outputs": [],
   "source": [
    "# instantiates the visualization object\n",
    "BE_viz = Viz(dataset, printing, verbose=True)"
   ]
  },
  {
   "cell_type": "markdown",
   "metadata": {},
   "source": [
    "## ADAM model"
   ]
  },
  {
   "cell_type": "code",
   "execution_count": null,
   "metadata": {},
   "outputs": [],
   "source": [
    "# constructs a test train split\n",
    "X_train, X_test, y_train, y_test = dataset.test_train_split_(shuffle=True)\n",
    "\n",
    "set_seeds(seed=42)\n",
    "\n",
    "postprocessor = ComplexPostProcessor(dataset)\n",
    "\n",
    "ADAM_model_ = Multiscale1DFitter(SHO_nn, # function \n",
    "                            dataset.frequency_bin, # x data\n",
    "                            2, # input channels\n",
    "                            4, # output channels\n",
    "                            dataset.SHO_scaler, \n",
    "                            postprocessor)\n",
    "\n",
    "# instantiate the model\n",
    "ADAM_model = Model(ADAM_model_, dataset, \n",
    "                   training=True, model_basename=\"SHO_Fitter_original_data\", \n",
    "                   datafed_path = \"2024_SHO_Fitting/Adam_NN_SHO_Fitter\", \n",
    "                   script_path = f\"{os.getcwd()}/4_Second_Order_Optimizers.ipynb\")\n",
    "\n",
    "ADAM_model.fit(\n",
    "    dataset.X_train,\n",
    "    5000,\n",
    "    optimizer=\"Adam\",\n",
    "    epochs = 5,\n",
    ")\n",
    "\n"
   ]
  },
  {
   "cell_type": "markdown",
   "metadata": {},
   "source": [
    "## Adahessian\n",
    "\n",
    "We first try an optimized called [adahessian](https://arxiv.org/abs/2006.00719)"
   ]
  },
  {
   "cell_type": "code",
   "execution_count": null,
   "metadata": {},
   "outputs": [],
   "source": [
    "# constructs a test train split\n",
    "X_train, X_test, y_train, y_test = dataset.test_train_split_(shuffle=True)\n",
    "\n",
    "set_seeds(seed=42)\n",
    "\n",
    "postprocessor = ComplexPostProcessor(dataset)\n",
    "\n",
    "AdaHessian_ = Multiscale1DFitter(SHO_nn, # function \n",
    "                            dataset.frequency_bin, # x data\n",
    "                            2, # input channels\n",
    "                            4, # output channels\n",
    "                            dataset.SHO_scaler, \n",
    "                            postprocessor)\n",
    "\n",
    "# instantiate the model\n",
    "AdaHessian_model = Model(AdaHessian_, dataset, training=True, \n",
    "                         model_basename=\"SHO_Fitter_original_data_adahessian\",\n",
    "                        datafed_path = \"2024_SHO_Fitting/AdaHessian_NN_SHO_Fitter\", \n",
    "                       script_path = f\"{os.getcwd()}/4_Second_Order_Optimizers.ipynb\")\n",
    "\n",
    "\n",
    "AdaHessian_model.fit(\n",
    "    dataset.X_train,\n",
    "    5000,\n",
    "    optimizer=\"AdaHessian\",\n",
    "    epochs = 5,\n",
    "     lr=.15\n",
    ")\n"
   ]
  },
  {
   "cell_type": "markdown",
   "metadata": {},
   "source": [
    "### Evaluate the Neural Network Results\n",
    "\n",
    "It is always recommended to validate that the autoencoder is working correctly. We can do this by comparing the different stages of the autoencoder including the raw data, the generated curves.\n"
   ]
  },
  {
   "cell_type": "code",
   "execution_count": null,
   "metadata": {},
   "outputs": [],
   "source": [
    "d1, d2, index1, mse1 = BE_viz.bmw_nn(\n",
    "    X_train,\n",
    "    prediction=AdaHessian_model,\n",
    "    out_state={\"scaled\": True, \"raw_format\": \"complex\"},\n",
    "    returns=True,\n",
    "    filename=\"Figure_4_1_NN_Adahessian_SHO_Fits_training\",\n",
    ")"
   ]
  },
  {
   "cell_type": "markdown",
   "metadata": {},
   "source": [
    "**Figure 4.1** Raw data and reconstruction of the autoencoder trained with Adahessian for the training data. Shows the a) best, b) median, and c) worst reconstruction of the training data."
   ]
  },
  {
   "cell_type": "code",
   "execution_count": null,
   "metadata": {},
   "outputs": [],
   "source": [
    "d1, d2, index1, mse1 = BE_viz.bmw_nn(\n",
    "    X_test,\n",
    "    prediction=AdaHessian_model,\n",
    "    out_state={\"scaled\": True, \"raw_format\": \"complex\"},\n",
    "    returns=True,\n",
    "    filename=\"Figure_4_2_NN_Adahessian_SHO_Fits_testing\",\n",
    ")"
   ]
  },
  {
   "cell_type": "markdown",
   "metadata": {},
   "source": [
    "**Figure 4.2** Raw data and reconstruction of the autoencoder trained with Adahessian for the testing data. Shows the a) best, b) median, and c) worst reconstruction of the testing data."
   ]
  },
  {
   "cell_type": "code",
   "execution_count": null,
   "metadata": {},
   "outputs": [],
   "source": [
    "state = {\n",
    "    \"fitter\": \"LSQF\",\n",
    "    \"raw_format\": \"complex\",\n",
    "    \"resampled\": True,\n",
    "    \"scaled\": True,\n",
    "    \"output_shape\": \"index\",\n",
    "}\n",
    "\n",
    "X_data, Y_data = dataset.NN_data()\n",
    "\n",
    "d1, d2, index1, mse1 = BE_viz.bmw_nn(\n",
    "    state,\n",
    "    prediction=AdaHessian_model,\n",
    "    out_state={\"scaled\": True, \"measurement State\": \"complex\"},\n",
    "    returns=True,\n",
    "    filename=\"Figure_4_3_NN_Adahessian_SHO_Fits_testing\",\n",
    ")"
   ]
  },
  {
   "cell_type": "markdown",
   "metadata": {},
   "source": [
    "**Figure 4.3** Raw data and reconstruction of the autoencoder trained with Adahessian for the entire data. Shows the a) best, b) median, and c) worst reconstruction of the entire data."
   ]
  },
  {
   "cell_type": "code",
   "execution_count": null,
   "metadata": {},
   "outputs": [],
   "source": [
    "# we will add the appropriate phase shift to the dataset based on the fix seed,\n",
    "# If your seed is different the results might vary\n",
    "dataset.NN_phase_shift = np.pi/2 \n",
    "\n",
    "# you can view the test and training dataset by replacing X_data with X_test or X_train\n",
    "pred_data, scaled_param, parm = AdaHessian_model.predict(X_data)\n",
    "\n",
    "BE_viz.SHO_hist(parm, filename=\"Figure_13_NN_Unscaled_Parameters_Histograms\")"
   ]
  },
  {
   "cell_type": "markdown",
   "metadata": {},
   "source": [
    "**Figure 4.4** Histogram of the fit results computed with the Adahessian optimized neural network for the a) amplitude, b) resonance frequency, c) quality factor, and d) phase."
   ]
  },
  {
   "cell_type": "code",
   "execution_count": null,
   "metadata": {},
   "outputs": [],
   "source": [
    "# you can view the test and training dataset by replacing X_data with X_test or X_train\n",
    "pred_data, scaled_param, parm = AdaHessian_model.predict(X_data)\n",
    "\n",
    "BE_viz.SHO_switching_maps(parm, filename=\"Figure_3_5_NN_Switching_Maps\")"
   ]
  },
  {
   "cell_type": "markdown",
   "metadata": {},
   "source": [
    "**Figure 4.5** Snapshots of the amplitude, resonance frequency, quality factor, and phase of the piezoresponse during ferroelectric switching based on adahessian optimizer fits."
   ]
  },
  {
   "cell_type": "code",
   "execution_count": null,
   "metadata": {},
   "outputs": [],
   "source": [
    "dataset.NN_phase_shift = np.pi/2\n",
    "dataset.LSQF_phase_shift = np.pi/2\n",
    "dataset.measurement_state = \"all\"\n",
    "\n",
    "\n",
    "true_state = {\n",
    "    \"fitter\": \"LSQF\",\n",
    "    \"raw_format\": \"complex\",\n",
    "    \"resampled\": True,\n",
    "    \"scaled\": True,\n",
    "    \"output_shape\": \"index\",\n",
    "    \"measurement_state\": \"all\",\n",
    "}\n",
    "\n",
    "out_state = {\"scaled\": True, \"raw_format\": \"magnitude spectrum\"}\n",
    "\n",
    "n = 1\n",
    "\n",
    "LSQF = BE_viz.get_best_median_worst(\n",
    "    true_state,\n",
    "    prediction={\"fitter\": \"LSQF\"},\n",
    "    out_state=out_state,\n",
    "    SHO_results=True,\n",
    "    n=n,\n",
    ")\n",
    "\n",
    "NN = BE_viz.get_best_median_worst(\n",
    "    true_state, prediction=AdaHessian_model, out_state=out_state, SHO_results=True, n=n\n",
    ")\n",
    "\n",
    "data = (LSQF, NN)\n",
    "names = [\"LSQF\", \"NN\"]\n",
    "\n",
    "BE_viz.SHO_Fit_comparison(\n",
    "    data,\n",
    "    names,\n",
    "    model_comparison=[AdaHessian_model, {\"fitter\": \"LSQF\"}],\n",
    "    out_state=out_state,\n",
    "    filename=\"Figure_4_5_LSQF_NN_bmw_comparison\",\n",
    ")"
   ]
  },
  {
   "cell_type": "markdown",
   "metadata": {},
   "source": [
    "**Figure 4.6** Comparison of the a,b) best, c,d) median, and e,f) worst simple harmonic oscillator fits. a,c,e) are based on the fit results from the simple harmonic oscillator model, wherein b,d,f) are based on the neural network model trained with the Adahessian optimizer. Generally speaking, all fits are good for both models on the as collected data."
   ]
  },
  {
   "cell_type": "code",
   "execution_count": null,
   "metadata": {},
   "outputs": [],
   "source": [
    "true_state = {\n",
    "    \"fitter\": \"LSQF\",\n",
    "    \"raw_format\": \"complex\",\n",
    "    \"resampled\": True,\n",
    "    \"scaled\": True,\n",
    "    \"output_shape\": \"index\",\n",
    "    \"measurement_state\": \"all\",\n",
    "}\n",
    "\n",
    "BE_viz.violin_plot_comparison_SHO(true_state, AdaHessian_model, X_data, label='AdaHessian',\n",
    "                                  filename=\"Figure_4_7_Violin_plot_comparison_SHO_AdaHessian\") "
   ]
  },
  {
   "cell_type": "markdown",
   "metadata": {},
   "source": [
    "**Figure 4.7** Comparison of the least-squares and adahessian optimized neural network fitting results."
   ]
  },
  {
   "cell_type": "markdown",
   "metadata": {},
   "source": [
    "## Trust Region Optimizer"
   ]
  },
  {
   "cell_type": "code",
   "execution_count": null,
   "metadata": {},
   "outputs": [],
   "source": [
    "optimizer = {\"name\": \"TRCG\", \"optimizer\":TRCG, \"radius\": 5, \"device\": \"cuda\",\"ADAM_epochs\": 2}\n",
    "\n",
    "# constructs a test train split\n",
    "X_train, X_test, y_train, y_test = dataset.test_train_split_(shuffle=True)\n",
    "\n",
    "set_seeds(seed=42)\n",
    "\n",
    "postprocessor = ComplexPostProcessor(dataset)\n",
    "\n",
    "TRCG_ = Multiscale1DFitter(SHO_nn, # function \n",
    "                            dataset.frequency_bin, # x data\n",
    "                            2, # input channels\n",
    "                            4, # output channels\n",
    "                            dataset.SHO_scaler, \n",
    "                            postprocessor)\n",
    "\n",
    "# instantiate the model\n",
    "TRCG_model = Model(TRCG_, dataset, training=True, model_basename=\"SHO_Fitter_original_data_TRCG\",\n",
    "                   datafed_path = \"2024_SHO_Fitting/TR_NN_SHO_Fitter\", \n",
    "                   script_path = f\"{os.getcwd()}/4_Second_Order_Optimizers.ipynb\")\n",
    "\n",
    "TRCG_model.fit(\n",
    "    dataset.X_train,\n",
    "    5000,\n",
    "    optimizer=optimizer,\n",
    "    epochs = 5,\n",
    ")"
   ]
  },
  {
   "cell_type": "markdown",
   "metadata": {},
   "source": [
    "### Evaluate the Neural Network Results\n",
    "\n",
    "It is always recommended to validate that the autoencoder is working correctly. We can do this by comparing the different stages of the autoencoder including the raw data, the generated curves.\n"
   ]
  },
  {
   "cell_type": "code",
   "execution_count": null,
   "metadata": {},
   "outputs": [],
   "source": [
    "d1, d2, index1, mse1 = BE_viz.bmw_nn(\n",
    "    X_train,\n",
    "    prediction=TRCG_model,\n",
    "    out_state={\"scaled\": True, \"raw_format\": \"complex\"},\n",
    "    returns=True,\n",
    "    filename=\"Figure_4_8_NN_TrustRegion_SHO_Fits_training\",\n",
    ")"
   ]
  },
  {
   "cell_type": "markdown",
   "metadata": {},
   "source": [
    "**Figure 4.8** Raw data and reconstruction of the autoencoder trained with Trust Region for the training data. Shows the a) best, b) median, and c) worst reconstruction of the training data."
   ]
  },
  {
   "cell_type": "code",
   "execution_count": null,
   "metadata": {},
   "outputs": [],
   "source": [
    "d1, d2, index1, mse1 = BE_viz.bmw_nn(\n",
    "    X_test,\n",
    "    prediction=TRCG_model,\n",
    "    out_state={\"scaled\": True, \"raw_format\": \"complex\"},\n",
    "    returns=True,\n",
    "    filename=\"Figure_4_9_NN_TrustRegion_SHO_Fits_testing\",\n",
    ")"
   ]
  },
  {
   "cell_type": "markdown",
   "metadata": {},
   "source": [
    "**Figure 4.9** Raw data and reconstruction of the autoencoder trained with trust region for the testing data. Shows the a) best, b) median, and c) worst reconstruction of the testing data."
   ]
  },
  {
   "cell_type": "code",
   "execution_count": null,
   "metadata": {},
   "outputs": [],
   "source": [
    "state = {\n",
    "    \"fitter\": \"LSQF\",\n",
    "    \"raw_format\": \"complex\",\n",
    "    \"resampled\": True,\n",
    "    \"scaled\": True,\n",
    "    \"output_shape\": \"index\",\n",
    "}\n",
    "\n",
    "X_data, Y_data = dataset.NN_data()\n",
    "\n",
    "d1, d2, index1, mse1 = BE_viz.bmw_nn(\n",
    "    state,\n",
    "    prediction=TRCG_model,\n",
    "    out_state={\"scaled\": True, \"measurement State\": \"complex\"},\n",
    "    returns=True,\n",
    "    filename=\"Figure_4_10_NN_validation_full_data\",\n",
    ")"
   ]
  },
  {
   "cell_type": "markdown",
   "metadata": {},
   "source": [
    "**Figure 4.10** Raw data and reconstruction of the autoencoder trained with Adahessian for the entire data. Shows the a) best, b) median, and c) worst reconstruction of the entire data."
   ]
  },
  {
   "cell_type": "code",
   "execution_count": null,
   "metadata": {},
   "outputs": [],
   "source": [
    "# we will add the appropriate phase shift to the dataset based on the fix seed,\n",
    "# If your seed is different the results might vary\n",
    "dataset.NN_phase_shift = np.pi/2 \n",
    "\n",
    "# you can view the test and training dataset by replacing X_data with X_test or X_train\n",
    "pred_data, scaled_param, parm = TRCG_model.predict(X_data)\n",
    "\n",
    "BE_viz.SHO_hist(parm, filename=\"Figure_4_11_NN_Unscaled_Parameters_Histograms\")"
   ]
  },
  {
   "cell_type": "markdown",
   "metadata": {},
   "source": [
    "**Figure 4.11** Histogram of the fit results computed with the trust region optimized neural network for the a) amplitude, b) resonance frequency, c) quality factor, and d) phase."
   ]
  },
  {
   "cell_type": "code",
   "execution_count": null,
   "metadata": {},
   "outputs": [],
   "source": [
    "# you can view the test and training dataset by replacing X_data with X_test or X_train\n",
    "pred_data, scaled_param, parm = TRCG_model.predict(X_data)\n",
    "\n",
    "BE_viz.SHO_switching_maps(parm, filename=\"Figure_4_12_NN_Switching_Maps\")"
   ]
  },
  {
   "cell_type": "markdown",
   "metadata": {},
   "source": [
    "**Figure 4.12** Snapshots of the amplitude, resonance frequency, quality factor, and phase of the piezoresponse during ferroelectric switching based on the trust region optimizer fits."
   ]
  },
  {
   "cell_type": "code",
   "execution_count": null,
   "metadata": {},
   "outputs": [],
   "source": [
    "dataset.NN_phase_shift = np.pi/2\n",
    "dataset.LSQF_phase_shift = np.pi/2\n",
    "dataset.measurement_state = \"all\"\n",
    "\n",
    "\n",
    "true_state = {\n",
    "    \"fitter\": \"LSQF\",\n",
    "    \"raw_format\": \"complex\",\n",
    "    \"resampled\": True,\n",
    "    \"scaled\": True,\n",
    "    \"output_shape\": \"index\",\n",
    "    \"measurement_state\": \"all\",\n",
    "}\n",
    "\n",
    "out_state = {\"scaled\": True, \"raw_format\": \"magnitude spectrum\"}\n",
    "\n",
    "n = 1\n",
    "\n",
    "LSQF = BE_viz.get_best_median_worst(\n",
    "    true_state,\n",
    "    prediction={\"fitter\": \"LSQF\"},\n",
    "    out_state=out_state,\n",
    "    SHO_results=True,\n",
    "    n=n,\n",
    ")\n",
    "\n",
    "NN = BE_viz.get_best_median_worst(\n",
    "    true_state, prediction=TRCG_model, out_state=out_state, SHO_results=True, n=n\n",
    ")\n",
    "\n",
    "data = (LSQF, NN)\n",
    "names = [\"LSQF\", \"NN\"]\n",
    "\n",
    "BE_viz.SHO_Fit_comparison(\n",
    "    data,\n",
    "    names,\n",
    "    model_comparison=[TRCG_model, {\"fitter\": \"LSQF\"}],\n",
    "    out_state=out_state,\n",
    "    filename=\"Figure_4_13_LSQF_NN_bmw_comparison_Trust_Region\",\n",
    "    # display_results = None\n",
    ")"
   ]
  },
  {
   "cell_type": "markdown",
   "metadata": {},
   "source": [
    "**Figure 4.13:** Comparison of the a, b) best, c, d) median, and e, f) worst simple harmonic oscillator fits. a, c, e) are based on the fit results from the simple harmonic oscillator model, whereas b, d, f) are based on the neural network model trained with the Trust Region Optimizer. Generally speaking, all fits are good for both models on the collected data. The Trust Region Optimizer has lower maximum errors than the other neural network models."
   ]
  },
  {
   "cell_type": "code",
   "execution_count": null,
   "metadata": {},
   "outputs": [],
   "source": [
    "true_state = {\n",
    "    \"fitter\": \"LSQF\",\n",
    "    \"raw_format\": \"complex\",\n",
    "    \"resampled\": True,\n",
    "    \"scaled\": True,\n",
    "    \"output_shape\": \"index\",\n",
    "    \"measurement_state\": \"all\",\n",
    "}\n",
    "\n",
    "\n",
    "BE_viz.violin_plot_comparison_SHO(true_state, TRCG_model, X_data, filename=\"Figure_4_14_Violin_Trust_Region\", label=\"Trust Region\") "
   ]
  },
  {
   "cell_type": "markdown",
   "metadata": {},
   "source": [
    "**Figure 4.14** Comparison of the least-squares and trust region-optimized neural network fitting results."
   ]
  }
 ],
 "metadata": {
  "kernelspec": {
   "display_name": "Python 3 (ipykernel)",
   "language": "python",
   "name": "python3"
  },
  "language_info": {
   "codemirror_mode": {
    "name": "ipython",
    "version": 3
   },
   "file_extension": ".py",
   "mimetype": "text/x-python",
   "name": "python",
   "nbconvert_exporter": "python",
   "pygments_lexer": "ipython3",
   "version": "3.11.9"
  }
 },
 "nbformat": 4,
 "nbformat_minor": 4
}
