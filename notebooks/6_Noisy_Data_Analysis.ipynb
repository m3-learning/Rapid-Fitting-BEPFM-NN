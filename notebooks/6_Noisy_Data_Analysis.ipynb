{
 "cells": [
  {
   "cell_type": "markdown",
   "metadata": {},
   "source": [
    "# 5 Noisy Data Analysis"
   ]
  },
  {
   "cell_type": "code",
   "execution_count": null,
   "metadata": {},
   "outputs": [],
   "source": [
    "%load_ext autoreload\n",
    "%autoreload 2\n",
    "\n",
    "import numpy as np\n",
    "\n",
    "from m3util.ml.rand import set_seeds\n",
    "from m3util.viz.style import set_style\n",
    "from m3util.viz.printing import printer\n",
    "from belearn.viz.viz import Viz\n",
    "from belearn.dataset.dataset import BE_Dataset\n",
    "from belearn.functions.sho import SHO_nn\n",
    "from belearn.nn.analysis import find_best_model\n",
    "from belearn.nn.nn import create_models\n",
    "from autophyslearn.spectroscopic.nn import Multiscale1DFitter, Model\n",
    "from autophyslearn.postprocessing.complex import ComplexPostProcessor\n",
    "\n",
    "    \n",
    "printing = printer(basepath = './Figures/')\n",
    "\n",
    "set_style(\"printing\")\n",
    "set_seeds(seed=42)\n",
    "\n",
    "%matplotlib inline"
   ]
  },
  {
   "cell_type": "markdown",
   "metadata": {},
   "source": [
    "## Loads Data\n"
   ]
  },
  {
   "cell_type": "code",
   "execution_count": null,
   "metadata": {},
   "outputs": [],
   "source": [
    "# Specify the filename and the path to save the file\n",
    "filename = \"data_raw.h5\"\n",
    "save_path = \"./Data\"\n",
    "\n",
    "data_path = save_path + \"/\" + filename\n",
    "\n",
    "# instantiate the dataset object\n",
    "dataset = BE_Dataset(data_path, SHO_fit_func_LSQF=SHO_nn)\n",
    "\n",
    "# print the contents of the file\n",
    "dataset.print_be_tree()"
   ]
  },
  {
   "cell_type": "markdown",
   "metadata": {},
   "source": [
    "## Collects Training Records\n",
    "\n",
    "Training records could either be saved as a CSV file or on DataFed. We recommend using DataFed, however, this requires and account and allocation. "
   ]
  },
  {
   "cell_type": "code",
   "execution_count": null,
   "metadata": {},
   "outputs": [],
   "source": [
    "import pandas as pd\n",
    "\n"
   ]
  },
  {
   "cell_type": "code",
   "execution_count": null,
   "metadata": {},
   "outputs": [],
   "source": [
    "from belearn.nn.analysis import convert_csv_df\n"
   ]
  },
  {
   "cell_type": "code",
   "execution_count": null,
   "metadata": {},
   "outputs": [],
   "source": [
    "pd_df.head()"
   ]
  },
  {
   "cell_type": "code",
   "execution_count": null,
   "metadata": {},
   "outputs": [],
   "source": [
    "# Using DataFed\n",
    "DataFed = True\n",
    "\n",
    "if DataFed:\n",
    "    from datafed_torchflow.pytorch import TorchViewer\n",
    "\n",
    "    # instantiates the TorchViewer object -- replace path with your path\n",
    "    torch_viewer = TorchViewer(\"2024_SHO_Fitting/Training_Benchmarks_NN_SHO\")\n",
    "\n",
    "    pd_df = torch_viewer.getModelCheckpoints()\n",
    "    df_new = pd_df\n",
    "    \n",
    "else:\n",
    "\n",
    "    basepath = \"./Trained Models/SHO Fitter/2024-09-17_12-38-10_nn_benchmarks_noise/\"\n",
    "    filename = \"Batch_Trainging_SpeedTest.csv\"\n",
    "    \n",
    "    # Read the CSV file into a DataFrame\n",
    "    df = pd.read_csv(basepath + \"/\" + filename)\n",
    "\n",
    "    \n",
    "    df_new = convert_csv_df(df)\n",
    "\n"
   ]
  },
  {
   "cell_type": "markdown",
   "metadata": {},
   "source": [
    "# Benchmarking on Noisy Data\n",
    "\n",
    "To benchmark on noisy data we conducted fits using both Adam and Trust Region Optimizers. We added noise in multiples of the standard deviation of the raw data. \n",
    "\n",
    "Training was saved after 900 seconds."
   ]
  },
  {
   "cell_type": "code",
   "execution_count": null,
   "metadata": {},
   "outputs": [],
   "source": [
    "df_new.head()"
   ]
  },
  {
   "cell_type": "code",
   "execution_count": null,
   "metadata": {},
   "outputs": [],
   "source": [
    "\n",
    "\n",
    "# # organizes the results\n",
    "# results = find_best_model(basepath, filename)\n",
    "\n",
    "from m3util.util.IO import find_files_recursive\n",
    "\n",
    "find_files_recursive(\"notebooks/Trained Models/SHO Fitter/2024-09-17_12-38-10_nn_benchmarks_noise\","
   ]
  },
  {
   "cell_type": "code",
   "execution_count": null,
   "metadata": {},
   "outputs": [],
   "source": [
    "find_min_max_by_group(df_new, 'train_loss', find='min', exclude_kwargs={'early_stopping': True}, noise_level = 0, optimizer_name = 'Adam')"
   ]
  },
  {
   "cell_type": "code",
   "execution_count": null,
   "metadata": {},
   "outputs": [],
   "source": []
  },
  {
   "cell_type": "code",
   "execution_count": null,
   "metadata": {},
   "outputs": [],
   "source": []
  },
  {
   "cell_type": "code",
   "execution_count": null,
   "metadata": {},
   "outputs": [],
   "source": []
  },
  {
   "cell_type": "code",
   "execution_count": null,
   "metadata": {},
   "outputs": [],
   "source": [
    "import pandas as pd\n",
    "\n",
    "\n",
    "\n",
    "# Example usage\n",
    "# df is your dataframe, col_name is the column for which you want to find min or max,\n",
    "# kwargs are the inclusion conditions, and exclude_kwargs are the exclusion conditions.\n",
    "# Example call: \n",
    "# find_min_max_by_group(df, 'train_loss', find='min', exclude_kwargs={'noise_level': 0.2}, optimizer_name='SGD', noise_level=0.1)\n"
   ]
  },
  {
   "cell_type": "markdown",
   "metadata": {},
   "source": [
    "## Instantiate the Visualizer"
   ]
  },
  {
   "cell_type": "code",
   "execution_count": null,
   "metadata": {},
   "outputs": [],
   "source": [
    "# insatiate the visualization object\n",
    "image_scalebar = [2000, 500, \"nm\", \"br\"]\n",
    "\n",
    "BE_viz = Viz(dataset, printing, verbose=True, \n",
    "             SHO_ranges = [(0,1.5e-4), (1.31e6, 1.33e6), (-300, 0), (-np.pi, np.pi)],\n",
    "             image_scalebar=image_scalebar)\n",
    "\n",
    "# extracts the x and y data based on the noise\n",
    "X_data_no_noise, Y_data = dataset.NN_data()"
   ]
  },
  {
   "cell_type": "markdown",
   "metadata": {},
   "source": [
    "## Noise Level 0, ADAM Optimizer"
   ]
  },
  {
   "cell_type": "markdown",
   "metadata": {},
   "source": [
    "### Scaling the Data\n",
    "\n",
    "When training the neural network it is useful to scale the data. We apply a global scaler such that the spectrum have a mean of 0 and a standard deviation of 1.\n",
    "\n",
    "#### Visualizing the Scaled Data\n"
   ]
  },
  {
   "cell_type": "code",
   "execution_count": null,
   "metadata": {},
   "outputs": [],
   "source": [
    "# Sets the dataset\n",
    "noise = 0\n",
    "optimizer = \"Adam\"\n",
    "\n",
    "state = {\"fitter\": \"LSQF\", \"resampled\": True, \"scaled\": True, \"label\": \"Scaled\", \"noise\": noise}\n",
    "dataset.set_attributes(**state)\n",
    "\n",
    "BE_viz.nn_checker(state, filename=f\"Figure_6_1_Scaled Raw Data_noise_{noise}_optimizer_{optimizer}\")"
   ]
  },
  {
   "cell_type": "markdown",
   "metadata": {},
   "source": [
    "**Figure 5.1** Example visualization of the scaled, noisy (noise = 0) data which is used for training."
   ]
  },
  {
   "cell_type": "markdown",
   "metadata": {},
   "source": [
    "### Extracts the Data and Models"
   ]
  },
  {
   "cell_type": "code",
   "execution_count": null,
   "metadata": {},
   "outputs": [],
   "source": [
    "# extracts the x and y data based on the noise\n",
    "X_data, Y_data = dataset.NN_data()\n",
    "postprocessor = ComplexPostProcessor(dataset)\n",
    "\n",
    "adam_model, trust_region_model = create_models(basepath, results, noise, dataset, postprocessor, SHO_nn)"
   ]
  },
  {
   "cell_type": "markdown",
   "metadata": {},
   "source": [
    "### Evaluate the Fit Results\n",
    "\n",
    "It is always recommended to validate that the autoencoder is working correctly. We can do this by visualizing the best, median, and worst fits.\n",
    "\n",
    "We will assume that the autoencoder is working correctly and thus will not consider the test train split.\n",
    "\n",
    "Note: we are comparing the autoencoder results to the original data, not the noisy data. \n"
   ]
  },
  {
   "cell_type": "code",
   "execution_count": null,
   "metadata": {},
   "outputs": [],
   "source": [
    "LSQF_ = {'resampled': True,\n",
    "                'raw_format': 'complex',\n",
    "                'fitter': 'LSQF',\n",
    "                'scaled': True,\n",
    "                'output_shape': 'index',\n",
    "                'measurement_state': 'all',\n",
    "                'resampled_bins': 165,\n",
    "                'LSQF_phase_shift': 1.5707963267948966,\n",
    "                'NN_phase_shift': None,\n",
    "                'noise': noise}\n",
    "\n",
    "\n",
    "BE_viz.MSE_compare(X_data_no_noise, [model_adam, model_trust_region, LSQF_], [\"Adam\", \"Trust Region\", \"LSQF\"])"
   ]
  },
  {
   "cell_type": "markdown",
   "metadata": {},
   "source": [
    "#### Least Squares Fit"
   ]
  },
  {
   "cell_type": "code",
   "execution_count": null,
   "metadata": {},
   "outputs": [],
   "source": [
    "\n",
    "d1, d2, index1, mse1 = BE_viz.bmw_nn(\n",
    "    X_data,\n",
    "    prediction=LSQF_,\n",
    "    out_state={\"scaled\": True, \"raw_format\": \"complex\"},\n",
    "    returns=True,\n",
    "    filename=f\"Figure_5_2_NN_validation_noise_{noise}\",\n",
    "    compare_state = X_data_no_noise,\n",
    ")"
   ]
  },
  {
   "cell_type": "markdown",
   "metadata": {},
   "source": [
    "**Figure 5.2** Visualization of the noisy (noise level 0) fit results from the least squares fitting algorithm shows the best, median, and worst fits."
   ]
  },
  {
   "cell_type": "markdown",
   "metadata": {},
   "source": [
    "#### Neural Network with Adam Optimizer"
   ]
  },
  {
   "cell_type": "code",
   "execution_count": null,
   "metadata": {},
   "outputs": [],
   "source": [
    "d1, d2, index1, mse1 = BE_viz.bmw_nn(\n",
    "    X_data,\n",
    "    prediction=model_adam,\n",
    "    out_state={\"scaled\": True, \"raw_format\": \"complex\"},\n",
    "    returns=True,\n",
    "    filename=f\"Figure_5_3_NN_validation_noise_{noise}_Adam\",\n",
    "    compare_state = X_data_no_noise,\n",
    ")"
   ]
  },
  {
   "cell_type": "markdown",
   "metadata": {},
   "source": [
    "**Figure 5.3** Visualization of the noisy (noise level 0) fit results from the neural network trained with the Adam optimizers. We shows the best, median, and worst fits."
   ]
  },
  {
   "cell_type": "markdown",
   "metadata": {},
   "source": [
    "##### Neural Network with Trust Region Conjugate Gradient Optimizer"
   ]
  },
  {
   "cell_type": "code",
   "execution_count": null,
   "metadata": {},
   "outputs": [],
   "source": [
    "d1, d2, index1, mse1 = BE_viz.bmw_nn(\n",
    "    X_data,\n",
    "    prediction=model_trust_region,\n",
    "    out_state={\"scaled\": True, \"raw_format\": \"complex\"},\n",
    "    returns=True,\n",
    "    filename=f\"Figure_5_4_NN_validation_noise_{noise}_Trust_Region\",\n",
    "    compare_state = X_data_no_noise,\n",
    ")"
   ]
  },
  {
   "cell_type": "markdown",
   "metadata": {},
   "source": [
    "**Figure 5.4** Visualization of the noisy fit results from the neural network trained with the Adam optimizers. We shows the best, median, and worst fits."
   ]
  },
  {
   "cell_type": "markdown",
   "metadata": {},
   "source": [
    "### Histogram of Fit Results\n",
    "\n",
    "It is useful to view the histogram of the fitting results to apply any necessary phase shifts, and to see if the results are reasonable.\n"
   ]
  },
  {
   "cell_type": "code",
   "execution_count": null,
   "metadata": {},
   "outputs": [],
   "source": [
    "# make all the histograms the same bin range.\n",
    "\n",
    "LSQF_ = {'resampled': True,\n",
    "                'raw_format': 'complex',\n",
    "                'fitter': 'LSQF',\n",
    "                'scaled': False,\n",
    "                'output_shape': 'index',\n",
    "                'measurement_state': 'all',\n",
    "                'resampled_bins': 165,\n",
    "                'LSQF_phase_shift': 1.5707963267948966,\n",
    "                'NN_phase_shift': None,\n",
    "                'noise': noise}\n",
    "\n",
    "dataset.set_attributes(**LSQF_)\n",
    "\n",
    "LSQF_params = dataset.SHO_fit_results(state = LSQF_)\n",
    "\n",
    "# adam_params = dataset.SHO_fit_results(model = model_adam, phase_shift = np.pi / 2)\n",
    "\n",
    "# trust_region_params = dataset.SHO_fit_results(model = model_trust_region, phase_shift = np.pi / 2)\n",
    "\n",
    "adam_params = dataset.SHO_fit_results(model = model_adam, phase_shift = np.pi / 2)\n",
    "\n",
    "trust_region_params = dataset.SHO_fit_results(model = model_trust_region, phase_shift = np.pi / 2)\n"
   ]
  },
  {
   "cell_type": "code",
   "execution_count": null,
   "metadata": {},
   "outputs": [],
   "source": [
    "#BE_viz.SHO_hist([LSQF_params, adam_params, trust_region_params], SHO_ranges = BE_viz.SHO_ranges, filename=f\"Figure_5_5_Histogram_comparison_{noise}_noise\",)\n",
    "BE_viz.SHO_hist([LSQF_params, adam_params, trust_region_params], filename=f\"Figure_5_5_Histogram_comparison_{noise}_noise\",)"
   ]
  },
  {
   "cell_type": "markdown",
   "metadata": {},
   "source": [
    "**Figure 5.5** Histogram of the fit results for the a-d. LSQF, e-h. neural network with ADAM, i-l. neural network with trust region optimizers. "
   ]
  },
  {
   "cell_type": "code",
   "execution_count": null,
   "metadata": {},
   "outputs": [],
   "source": [
    "LSQF_ = {'resampled': True,\n",
    "                'raw_format': 'complex',\n",
    "                'fitter': 'LSQF',\n",
    "                'scaled': False,\n",
    "                'output_shape': 'index',\n",
    "                'measurement_state': 'all',\n",
    "                'resampled_bins': 165,\n",
    "                'LSQF_phase_shift': 1.5707963267948966,\n",
    "                'NN_phase_shift': None,\n",
    "                'noise': noise}\n",
    "\n",
    "LSQF_Params = dataset.SHO_fit_results(state = LSQF_)\n",
    "\n",
    "adam_params = dataset.SHO_fit_results(model = model_adam, phase_shift = np.pi / 2)\n",
    "\n",
    "trust_region_params = dataset.SHO_fit_results(model = model_trust_region, phase_shift = np.pi / 2)\n",
    "\n",
    "BE_viz.SHO_switching_maps_test([LSQF_Params, adam_params, trust_region_params], filename=f\"Figure_5_6_switching_maps_comparison_{noise}_noise\", labels=[\"LSQF\", \"Adam\", \"SGD\"])"
   ]
  },
  {
   "cell_type": "markdown",
   "metadata": {},
   "source": [
    "**Figure 5.6** Visualize the switching based on the different models on the noisy data. "
   ]
  },
  {
   "cell_type": "code",
   "execution_count": null,
   "metadata": {},
   "outputs": [],
   "source": [
    "BE_viz.SHO_fit_movie_images(noise = 0, \n",
    "                            models = [None, model_adam, model_trust_region],\n",
    "                            scalebar_= True, \n",
    "                            basepath = \"Movies/SHO_NN_compare\",  \n",
    "                            filename=\"SHO_NN_compare\",\n",
    "                            phase_shift = [None, np.pi / 2, np.pi / 2])"
   ]
  },
  {
   "cell_type": "markdown",
   "metadata": {},
   "source": [
    "## Noise Level 1"
   ]
  },
  {
   "cell_type": "markdown",
   "metadata": {},
   "source": [
    "### Scaling the Data\n",
    "\n",
    "When training the neural network it is useful to scale the data. We apply a global scaler such that the spectrum have a mean of 0 and a standard deviation of 1.\n",
    "\n",
    "#### Visualizing the Scaled Data\n"
   ]
  },
  {
   "cell_type": "code",
   "execution_count": null,
   "metadata": {},
   "outputs": [],
   "source": [
    "# Sets the dataset\n",
    "noise = 1\n",
    "optimizer = \"Adam\"\n",
    "\n",
    "state = {\"fitter\": \"LSQF\", \"resampled\": True, \"scaled\": True, \"label\": \"Scaled\", \"noise\": noise}\n",
    "dataset.set_attributes(**state)\n",
    "\n",
    "BE_viz.nn_checker(state, filename=f\"Figure_5_7_Scaled Raw Data_noise{noise}_optimizer_{optimizer}\")"
   ]
  },
  {
   "cell_type": "markdown",
   "metadata": {},
   "source": [
    "**Figure 5.7** Example visualization of the scaled, noisy data which is used for training."
   ]
  },
  {
   "cell_type": "markdown",
   "metadata": {},
   "source": [
    "### Extracts the Data and Models"
   ]
  },
  {
   "cell_type": "code",
   "execution_count": null,
   "metadata": {},
   "outputs": [],
   "source": [
    "# extracts the x and y data based on the noise\n",
    "X_data, Y_data = dataset.NN_data()\n",
    "\n",
    "# searches the trained models for the best model\n",
    "model_name_adam = basepath + \"/\" + results[(noise, \"Adam\")]['filename'].split(\"//\")[-1] \n",
    "model_name_trust_region = basepath + \"/\" + results[(noise, \"Trust Region CG\")]['filename'].split(\"//\")[-1] \n",
    "\n",
    "# instantiate the model\n",
    "model_adam = SHO_Model(dataset, training=False)\n",
    "\n",
    "# instantiate the model\n",
    "model_trust_region = SHO_Model(dataset, training=False)\n",
    "\n",
    "model_adam.load(\n",
    "    model_name_adam\n",
    ")\n",
    "\n",
    "model_trust_region.load(\n",
    "    model_name_trust_region\n",
    ")"
   ]
  },
  {
   "cell_type": "markdown",
   "metadata": {},
   "source": [
    "### Evaluate the Fit Results\n",
    "\n",
    "It is always recommended to validate that the autoencoder is working correctly. We can do this by visualizing the best, median, and worst fits.\n",
    "\n",
    "We will assume that the autoencoder is working correctly and thus will not consider the test train split.\n",
    "\n",
    "Note: we are comparing the autoencoder results to the original data, not the noisy data. \n"
   ]
  },
  {
   "cell_type": "code",
   "execution_count": null,
   "metadata": {},
   "outputs": [],
   "source": [
    "LSQF_ = {'resampled': True,\n",
    "                'raw_format': 'complex',\n",
    "                'fitter': 'LSQF',\n",
    "                'scaled': True,\n",
    "                'output_shape': 'index',\n",
    "                'measurement_state': 'all',\n",
    "                'resampled_bins': 165,\n",
    "                'LSQF_phase_shift': 1.5707963267948966,\n",
    "                'NN_phase_shift': None,\n",
    "                'noise': noise}\n",
    "\n",
    "\n",
    "BE_viz.MSE_compare(X_data_no_noise, [model_adam, model_trust_region, LSQF_], [\"Adam\", \"Trust Region\", \"LSQF\"])"
   ]
  },
  {
   "cell_type": "markdown",
   "metadata": {},
   "source": [
    "#### Least Squares Fit"
   ]
  },
  {
   "cell_type": "code",
   "execution_count": null,
   "metadata": {},
   "outputs": [],
   "source": [
    "\n",
    "d1, d2, index1, mse1 = BE_viz.bmw_nn(\n",
    "    X_data,\n",
    "    prediction=LSQF_,\n",
    "    out_state={\"scaled\": True, \"raw_format\": \"complex\"},\n",
    "    returns=True,\n",
    "    filename=f\"Figure_5_8_NN_validation_noise_{noise}\",\n",
    "    compare_state = X_data_no_noise,\n",
    ")"
   ]
  },
  {
   "cell_type": "markdown",
   "metadata": {},
   "source": [
    "**Figure 5.8** Visualization of the noisy (noise level 1) fit results from the least squares fitting algorithm shows the best, median, and worst fits."
   ]
  },
  {
   "cell_type": "markdown",
   "metadata": {},
   "source": [
    "#### Neural Network with Adam Optimizer"
   ]
  },
  {
   "cell_type": "code",
   "execution_count": null,
   "metadata": {},
   "outputs": [],
   "source": [
    "d1, d2, index1, mse1 = BE_viz.bmw_nn(\n",
    "    X_data,\n",
    "    prediction=model_adam,\n",
    "    out_state={\"scaled\": True, \"raw_format\": \"complex\"},\n",
    "    returns=True,\n",
    "    filename=f\"Figure_5_9_NN_validation_noise_{noise}_Adam\",\n",
    "    compare_state = X_data_no_noise,\n",
    ")"
   ]
  },
  {
   "cell_type": "markdown",
   "metadata": {},
   "source": [
    "**Figure 5.9** Visualization of the noisy (noise level 0) fit results from the neural network trained with the Adam optimizers. We shows the best, median, and worst fits."
   ]
  },
  {
   "cell_type": "markdown",
   "metadata": {},
   "source": [
    "##### Neural Network with Trust Region Conjugate Gradient Optimizer"
   ]
  },
  {
   "cell_type": "code",
   "execution_count": null,
   "metadata": {},
   "outputs": [],
   "source": [
    "d1, d2, index1, mse1 = BE_viz.bmw_nn(\n",
    "    X_data,\n",
    "    prediction=model_trust_region,\n",
    "    out_state={\"scaled\": True, \"raw_format\": \"complex\"},\n",
    "    returns=True,\n",
    "    filename=f\"Figure_5_10_NN_validation_noise_{noise}_Trust_Region\",\n",
    "    compare_state = X_data_no_noise,\n",
    ")"
   ]
  },
  {
   "cell_type": "markdown",
   "metadata": {},
   "source": [
    "**Figure 5.10** Visualization of the noisy fit results from the neural network trained with the Adam optimizers. We shows the best, median, and worst fits."
   ]
  },
  {
   "cell_type": "markdown",
   "metadata": {},
   "source": [
    "### Histogram of Fit Results\n",
    "\n",
    "It is useful to view the histogram of the fitting results to apply any necessary phase shifts, and to see if the results are reasonable.\n"
   ]
  },
  {
   "cell_type": "code",
   "execution_count": null,
   "metadata": {},
   "outputs": [],
   "source": [
    "# make all the histograms the same bin range.\n",
    "\n",
    "LSQF_ = {'resampled': True,\n",
    "                'raw_format': 'complex',\n",
    "                'fitter': 'LSQF',\n",
    "                'scaled': False,\n",
    "                'output_shape': 'index',\n",
    "                'measurement_state': 'all',\n",
    "                'resampled_bins': 165,\n",
    "                'LSQF_phase_shift': 1.5707963267948966,\n",
    "                'NN_phase_shift': None,\n",
    "                'noise': noise}\n",
    "\n",
    "dataset.set_attributes(**LSQF_)\n",
    "\n",
    "LSQF_params = dataset.SHO_fit_results(state = LSQF_)\n",
    "\n",
    "# adam_params = dataset.SHO_fit_results(model = model_adam, phase_shift = np.pi / 2)\n",
    "\n",
    "# trust_region_params = dataset.SHO_fit_results(model = model_trust_region, phase_shift = np.pi / 2)\n",
    "\n",
    "adam_params = dataset.SHO_fit_results(model = model_adam, phase_shift = np.pi / 2)\n",
    "\n",
    "trust_region_params = dataset.SHO_fit_results(model = model_trust_region, phase_shift = np.pi / 2)\n",
    "\n",
    "#BE_viz.SHO_hist([LSQF_params, adam_params, trust_region_params], SHO_ranges = BE_viz.SHO_ranges, filename=f\"Figure_5_11_Histogram_comparison_{noise}_noise\",)\n",
    "BE_viz.SHO_hist([LSQF_params, adam_params, trust_region_params], filename=f\"Figure_5_11_Histogram_comparison_{noise}_noise\",)"
   ]
  },
  {
   "cell_type": "markdown",
   "metadata": {},
   "source": [
    "**Figure 5.11** Histogram of the fit results based on fits with noise 1 for the a-d. LSQF, e-h. neural network with ADAM, i-l. neural network with trust region optimizers."
   ]
  },
  {
   "cell_type": "code",
   "execution_count": null,
   "metadata": {},
   "outputs": [],
   "source": [
    "LSQF_ = {'resampled': True,\n",
    "                'raw_format': 'complex',\n",
    "                'fitter': 'LSQF',\n",
    "                'scaled': False,\n",
    "                'output_shape': 'index',\n",
    "                'measurement_state': 'all',\n",
    "                'resampled_bins': 165,\n",
    "                'LSQF_phase_shift': 1.5707963267948966,\n",
    "                'NN_phase_shift': None,\n",
    "                'noise': noise}\n",
    "\n",
    "LSQF_Params = dataset.SHO_fit_results(state = LSQF_)\n",
    "\n",
    "adam_params = dataset.SHO_fit_results(model = model_adam, phase_shift = np.pi / 2)\n",
    "\n",
    "trust_region_params = dataset.SHO_fit_results(model = model_trust_region, phase_shift = np.pi / 2)\n",
    "\n",
    "BE_viz.SHO_switching_maps_test([LSQF_Params, adam_params, trust_region_params], filename=f\"Figure_5_12_switching_maps_comparison_{noise}_noise\", labels=[\"LSQF\", \"Adam\", \"SGD\"])"
   ]
  },
  {
   "cell_type": "markdown",
   "metadata": {},
   "source": [
    "**Figure 5.12** Visualize the switching based on the different models on the noisy data. "
   ]
  },
  {
   "cell_type": "code",
   "execution_count": null,
   "metadata": {},
   "outputs": [],
   "source": [
    "BE_viz.SHO_fit_movie_images(noise = noise, \n",
    "                            models = [None, model_adam, model_trust_region],\n",
    "                            scalebar_= True, \n",
    "                            basepath = \"Movies/SHO_NN_compare\",  \n",
    "                            filename=\"SHO_NN_compare\",\n",
    "                            phase_shift = [None, np.pi / 2, np.pi / 2])"
   ]
  },
  {
   "cell_type": "markdown",
   "metadata": {},
   "source": [
    "## Noise Level 2"
   ]
  },
  {
   "cell_type": "markdown",
   "metadata": {},
   "source": [
    "### Scaling the Data\n",
    "\n",
    "When training the neural network it is useful to scale the data. We apply a global scaler such that the spectrum have a mean of 0 and a standard deviation of 1.\n",
    "\n",
    "#### Visualizing the Scaled Data\n"
   ]
  },
  {
   "cell_type": "code",
   "execution_count": null,
   "metadata": {},
   "outputs": [],
   "source": [
    "# Sets the dataset\n",
    "noise = 2\n",
    "optimizer = \"Adam\"\n",
    "\n",
    "state = {\"fitter\": \"LSQF\", \"resampled\": True, \"scaled\": True, \"label\": \"Scaled\", \"noise\": noise}\n",
    "dataset.set_attributes(**state)\n",
    "\n",
    "BE_viz.nn_checker(state, filename=f\"Figure_5_13_Scaled Raw Data_noise{noise}_optimizer_{optimizer}\")"
   ]
  },
  {
   "cell_type": "markdown",
   "metadata": {},
   "source": [
    "**Figure 5.13** Example visualization of the scaled, noisy data which is used for training."
   ]
  },
  {
   "cell_type": "markdown",
   "metadata": {},
   "source": [
    "### Extracts the Data and Models"
   ]
  },
  {
   "cell_type": "code",
   "execution_count": null,
   "metadata": {},
   "outputs": [],
   "source": [
    "# extracts the x and y data based on the noise\n",
    "X_data, Y_data = dataset.NN_data()\n",
    "\n",
    "# searches the trained models for the best model\n",
    "model_name_adam = basepath + \"/\" + results[(noise, \"Adam\")]['filename'].split(\"//\")[-1] \n",
    "model_name_trust_region = basepath + \"/\" + results[(noise, \"Trust Region CG\")]['filename'].split(\"//\")[-1] \n",
    "\n",
    "# instantiate the model\n",
    "model_adam = SHO_Model(dataset, training=False)\n",
    "\n",
    "# instantiate the model\n",
    "model_trust_region = SHO_Model(dataset, training=False)\n",
    "\n",
    "model_adam.load(\n",
    "    model_name_adam\n",
    ")\n",
    "\n",
    "model_trust_region.load(\n",
    "    model_name_trust_region\n",
    ")"
   ]
  },
  {
   "cell_type": "markdown",
   "metadata": {},
   "source": [
    "### Evaluate the Fit Results\n",
    "\n",
    "It is always recommended to validate that the autoencoder is working correctly. We can do this by visualizing the best, median, and worst fits.\n",
    "\n",
    "We will assume that the autoencoder is working correctly and thus will not consider the test train split.\n",
    "\n",
    "Note: we are comparing the autoencoder results to the original data, not the noisy data. \n"
   ]
  },
  {
   "cell_type": "code",
   "execution_count": null,
   "metadata": {},
   "outputs": [],
   "source": [
    "LSQF_ = {'resampled': True,\n",
    "                'raw_format': 'complex',\n",
    "                'fitter': 'LSQF',\n",
    "                'scaled': True,\n",
    "                'output_shape': 'index',\n",
    "                'measurement_state': 'all',\n",
    "                'resampled_bins': 165,\n",
    "                'LSQF_phase_shift': 1.5707963267948966,\n",
    "                'NN_phase_shift': None,\n",
    "                'noise': noise}\n",
    "\n",
    "\n",
    "BE_viz.MSE_compare(X_data_no_noise, [model_adam, model_trust_region, LSQF_], [\"Adam\", \"Trust Region\", \"LSQF\"])"
   ]
  },
  {
   "cell_type": "markdown",
   "metadata": {},
   "source": [
    "#### Least Squares Fit"
   ]
  },
  {
   "cell_type": "code",
   "execution_count": null,
   "metadata": {},
   "outputs": [],
   "source": [
    "\n",
    "d1, d2, index1, mse1 = BE_viz.bmw_nn(\n",
    "    X_data,\n",
    "    prediction=LSQF_,\n",
    "    out_state={\"scaled\": True, \"raw_format\": \"complex\"},\n",
    "    returns=True,\n",
    "    filename=f\"Figure_5_14_NN_validation_noise_{noise}\",\n",
    "    compare_state = X_data_no_noise,\n",
    ")"
   ]
  },
  {
   "cell_type": "markdown",
   "metadata": {},
   "source": [
    "**Figure 5.14** Visualization of the noisy (noise level 2) fit results from the least squares fitting algorithm shows the best, median, and worst fits."
   ]
  },
  {
   "cell_type": "markdown",
   "metadata": {},
   "source": [
    "#### Neural Network with Adam Optimizer"
   ]
  },
  {
   "cell_type": "code",
   "execution_count": null,
   "metadata": {},
   "outputs": [],
   "source": [
    "d1, d2, index1, mse1 = BE_viz.bmw_nn(\n",
    "    X_data,\n",
    "    prediction=model_adam,\n",
    "    out_state={\"scaled\": True, \"raw_format\": \"complex\"},\n",
    "    returns=True,\n",
    "    filename=f\"Figure_5_15_NN_validation_noise_{noise}_Adam\",\n",
    "    compare_state = X_data_no_noise,\n",
    ")"
   ]
  },
  {
   "cell_type": "markdown",
   "metadata": {},
   "source": [
    "**Figure 5.15** Visualization of the noisy (noise level 0) fit results from the neural network trained with the Adam optimizers. We shows the best, median, and worst fits."
   ]
  },
  {
   "cell_type": "markdown",
   "metadata": {},
   "source": [
    "##### Neural Network with Trust Region Conjugate Gradient Optimizer"
   ]
  },
  {
   "cell_type": "code",
   "execution_count": null,
   "metadata": {},
   "outputs": [],
   "source": [
    "d1, d2, index1, mse1 = BE_viz.bmw_nn(\n",
    "    X_data,\n",
    "    prediction=model_trust_region,\n",
    "    out_state={\"scaled\": True, \"raw_format\": \"complex\"},\n",
    "    returns=True,\n",
    "    filename=f\"Figure_5_16_NN_validation_noise_{noise}_Trust_Region\",\n",
    "    compare_state = X_data_no_noise,\n",
    ")"
   ]
  },
  {
   "cell_type": "markdown",
   "metadata": {},
   "source": [
    "**Figure 5.16** Visualization of the noisy fit results from the neural network trained with the Adam optimizers. We shows the best, median, and worst fits."
   ]
  },
  {
   "cell_type": "markdown",
   "metadata": {},
   "source": [
    "### Histogram of Fit Results\n",
    "\n",
    "It is useful to view the histogram of the fitting results to apply any necessary phase shifts, and to see if the results are reasonable.\n"
   ]
  },
  {
   "cell_type": "code",
   "execution_count": null,
   "metadata": {},
   "outputs": [],
   "source": [
    "# make all the histograms the same bin range.\n",
    "\n",
    "LSQF_ = {'resampled': True,\n",
    "                'raw_format': 'complex',\n",
    "                'fitter': 'LSQF',\n",
    "                'scaled': False,\n",
    "                'output_shape': 'index',\n",
    "                'measurement_state': 'all',\n",
    "                'resampled_bins': 165,\n",
    "                'LSQF_phase_shift': 1.5707963267948966,\n",
    "                'NN_phase_shift': None,\n",
    "                'noise': noise}\n",
    "\n",
    "dataset.set_attributes(**LSQF_)\n",
    "\n",
    "LSQF_params = dataset.SHO_fit_results(state = LSQF_)\n",
    "\n",
    "adam_params = dataset.SHO_fit_results(model = model_adam, phase_shift = np.pi / 2)\n",
    "\n",
    "trust_region_params = dataset.SHO_fit_results(model = model_trust_region, phase_shift = np.pi / 2)\n",
    "\n",
    "#BE_viz.SHO_hist([LSQF_params, adam_params, trust_region_params], SHO_ranges = BE_viz.SHO_ranges, filename=f\"Figure_5_16_Histogram_comparison_{noise}_noise\",)\n",
    "BE_viz.SHO_hist([LSQF_params, adam_params, trust_region_params], filename=f\"Figure_5_16_Histogram_comparison_{noise}_noise\",)"
   ]
  },
  {
   "cell_type": "markdown",
   "metadata": {},
   "source": [
    "**Figure 5.16** Histogram of the fit results based on fits with noise 1 for the a-d. LSQF, e-h. neural network with ADAM, i-l. neural network with trust region optimizers."
   ]
  },
  {
   "cell_type": "code",
   "execution_count": null,
   "metadata": {},
   "outputs": [],
   "source": [
    "LSQF_ = {'resampled': True,\n",
    "                'raw_format': 'complex',\n",
    "                'fitter': 'LSQF',\n",
    "                'scaled': False,\n",
    "                'output_shape': 'index',\n",
    "                'measurement_state': 'all',\n",
    "                'resampled_bins': 165,\n",
    "                'LSQF_phase_shift': 1.5707963267948966,\n",
    "                'NN_phase_shift': None,\n",
    "                'noise': noise}\n",
    "\n",
    "LSQF_Params = dataset.SHO_fit_results(state = LSQF_)\n",
    "\n",
    "adam_params = dataset.SHO_fit_results(model = model_adam, phase_shift = np.pi / 2)\n",
    "\n",
    "trust_region_params = dataset.SHO_fit_results(model = model_trust_region, phase_shift = np.pi / 2)\n",
    "\n",
    "BE_viz.SHO_switching_maps_test([LSQF_Params, adam_params, trust_region_params], filename=f\"Figure_5_17_switching_maps_comparison_{noise}_noise\", labels=[\"LSQF\", \"Adam\", \"SGD\"])"
   ]
  },
  {
   "cell_type": "markdown",
   "metadata": {},
   "source": [
    "**Figure 5.17** Visualize the switching based on the different models on the noisy data. "
   ]
  },
  {
   "cell_type": "code",
   "execution_count": null,
   "metadata": {},
   "outputs": [],
   "source": [
    "BE_viz.SHO_fit_movie_images(noise = noise, \n",
    "                            models = [None, model_adam, model_trust_region],\n",
    "                            scalebar_= True, \n",
    "                            basepath = \"Movies/SHO_NN_compare\",  \n",
    "                            filename=\"SHO_NN_compare\",\n",
    "                            phase_shift = [None, np.pi / 2, np.pi / 2])"
   ]
  },
  {
   "cell_type": "code",
   "execution_count": null,
   "metadata": {},
   "outputs": [],
   "source": []
  },
  {
   "cell_type": "markdown",
   "metadata": {},
   "source": [
    "## Noise Level 3"
   ]
  },
  {
   "cell_type": "markdown",
   "metadata": {},
   "source": [
    "### Scaling the Data\n",
    "\n",
    "When training the neural network it is useful to scale the data. We apply a global scaler such that the spectrum have a mean of 0 and a standard deviation of 1.\n",
    "\n",
    "#### Visualizing the Scaled Data\n"
   ]
  },
  {
   "cell_type": "code",
   "execution_count": null,
   "metadata": {},
   "outputs": [],
   "source": [
    "# Sets the dataset\n",
    "noise = 3\n",
    "optimizer = \"Adam\"\n",
    "\n",
    "state = {\"fitter\": \"LSQF\", \"resampled\": True, \"scaled\": True, \"label\": \"Scaled\", \"noise\": noise}\n",
    "dataset.set_attributes(**state)\n",
    "\n",
    "BE_viz.nn_checker(state, filename=f\"Figure_5_18_Scaled Raw Data_noise{noise}_optimizer_{optimizer}\")"
   ]
  },
  {
   "cell_type": "markdown",
   "metadata": {},
   "source": [
    "**Figure 5.18** Example visualization of the scaled, noisy data which is used for training."
   ]
  },
  {
   "cell_type": "markdown",
   "metadata": {},
   "source": [
    "### Extracts the Data and Models"
   ]
  },
  {
   "cell_type": "code",
   "execution_count": null,
   "metadata": {},
   "outputs": [],
   "source": [
    "# extracts the x and y data based on the noise\n",
    "X_data, Y_data = dataset.NN_data()\n",
    "\n",
    "# searches the trained models for the best model\n",
    "model_name_adam = basepath + \"/\" + results[(noise, \"Adam\")]['filename'].split(\"//\")[-1] \n",
    "model_name_trust_region = basepath + \"/\" + results[(noise, \"Trust Region CG\")]['filename'].split(\"//\")[-1] \n",
    "\n",
    "# instantiate the model\n",
    "model_adam = SHO_Model(dataset, training=False)\n",
    "\n",
    "# instantiate the model\n",
    "model_trust_region = SHO_Model(dataset, training=False)\n",
    "\n",
    "model_adam.load(\n",
    "    model_name_adam\n",
    ")\n",
    "\n",
    "model_trust_region.load(\n",
    "    model_name_trust_region\n",
    ")"
   ]
  },
  {
   "cell_type": "markdown",
   "metadata": {},
   "source": [
    "### Evaluate the Fit Results\n",
    "\n",
    "It is always recommended to validate that the autoencoder is working correctly. We can do this by visualizing the best, median, and worst fits.\n",
    "\n",
    "We will assume that the autoencoder is working correctly and thus will not consider the test train split.\n",
    "\n",
    "Note: we are comparing the autoencoder results to the original data, not the noisy data. \n"
   ]
  },
  {
   "cell_type": "code",
   "execution_count": null,
   "metadata": {},
   "outputs": [],
   "source": [
    "LSQF_ = {'resampled': True,\n",
    "                'raw_format': 'complex',\n",
    "                'fitter': 'LSQF',\n",
    "                'scaled': True,\n",
    "                'output_shape': 'index',\n",
    "                'measurement_state': 'all',\n",
    "                'resampled_bins': 165,\n",
    "                'LSQF_phase_shift': 1.5707963267948966,\n",
    "                'NN_phase_shift': None,\n",
    "                'noise': noise}\n",
    "\n",
    "\n",
    "BE_viz.MSE_compare(X_data_no_noise, [model_adam, model_trust_region, LSQF_], [\"Adam\", \"Trust Region\", \"LSQF\"])"
   ]
  },
  {
   "cell_type": "markdown",
   "metadata": {},
   "source": [
    "#### Least Squares Fit"
   ]
  },
  {
   "cell_type": "code",
   "execution_count": null,
   "metadata": {},
   "outputs": [],
   "source": [
    "\n",
    "d1, d2, index1, mse1 = BE_viz.bmw_nn(\n",
    "    X_data,\n",
    "    prediction=LSQF_,\n",
    "    out_state={\"scaled\": True, \"raw_format\": \"complex\"},\n",
    "    returns=True,\n",
    "    filename=f\"Figure_5_19_NN_validation_noise_{noise}\",\n",
    "    compare_state = X_data_no_noise,\n",
    ")"
   ]
  },
  {
   "cell_type": "markdown",
   "metadata": {},
   "source": [
    "**Figure 5.19** Visualization of the noisy (noise level 1) fit results from the least squares fitting algorithm shows the best, median, and worst fits."
   ]
  },
  {
   "cell_type": "markdown",
   "metadata": {},
   "source": [
    "#### Neural Network with Adam Optimizer"
   ]
  },
  {
   "cell_type": "code",
   "execution_count": null,
   "metadata": {},
   "outputs": [],
   "source": [
    "d1, d2, index1, mse1 = BE_viz.bmw_nn(\n",
    "    X_data,\n",
    "    prediction=model_adam,\n",
    "    out_state={\"scaled\": True, \"raw_format\": \"complex\"},\n",
    "    returns=True,\n",
    "    filename=f\"Figure_5_20_NN_validation_noise_{noise}_Adam\",\n",
    "    compare_state = X_data_no_noise,\n",
    ")"
   ]
  },
  {
   "cell_type": "markdown",
   "metadata": {},
   "source": [
    "**Figure 5.20** Visualization of the noisy (noise level 0) fit results from the neural network trained with the Adam optimizers. We shows the best, median, and worst fits."
   ]
  },
  {
   "cell_type": "markdown",
   "metadata": {},
   "source": [
    "##### Neural Network with Trust Region Conjugate Gradient Optimizer"
   ]
  },
  {
   "cell_type": "code",
   "execution_count": null,
   "metadata": {},
   "outputs": [],
   "source": [
    "d1, d2, index1, mse1 = BE_viz.bmw_nn(\n",
    "    X_data,\n",
    "    prediction=model_trust_region,\n",
    "    out_state={\"scaled\": True, \"raw_format\": \"complex\"},\n",
    "    returns=True,\n",
    "    filename=f\"Figure_5_21_NN_validation_noise_{noise}_Trust_Region\",\n",
    "    compare_state = X_data_no_noise,\n",
    ")"
   ]
  },
  {
   "cell_type": "markdown",
   "metadata": {},
   "source": [
    "**Figure 5.21** Visualization of the noisy fit results from the neural network trained with the Adam optimizers. We shows the best, median, and worst fits."
   ]
  },
  {
   "cell_type": "markdown",
   "metadata": {},
   "source": [
    "### Histogram of Fit Results\n",
    "\n",
    "It is useful to view the histogram of the fitting results to apply any necessary phase shifts, and to see if the results are reasonable.\n"
   ]
  },
  {
   "cell_type": "code",
   "execution_count": null,
   "metadata": {},
   "outputs": [],
   "source": [
    "# make all the histograms the same bin range.\n",
    "\n",
    "LSQF_ = {'resampled': True,\n",
    "                'raw_format': 'complex',\n",
    "                'fitter': 'LSQF',\n",
    "                'scaled': False,\n",
    "                'output_shape': 'index',\n",
    "                'measurement_state': 'all',\n",
    "                'resampled_bins': 165,\n",
    "                'LSQF_phase_shift': 1.5707963267948966,\n",
    "                'NN_phase_shift': None,\n",
    "                'noise': noise}\n",
    "\n",
    "dataset.set_attributes(**LSQF_)\n",
    "\n",
    "LSQF_params = dataset.SHO_fit_results(state = LSQF_)\n",
    "\n",
    "adam_params = dataset.SHO_fit_results(model = model_adam, phase_shift = np.pi / 2)\n",
    "\n",
    "trust_region_params = dataset.SHO_fit_results(model = model_trust_region, phase_shift = np.pi / 2)\n",
    "\n",
    "#BE_viz.SHO_hist([LSQF_params, adam_params, trust_region_params], SHO_ranges = BE_viz.SHO_ranges, filename=f\"Figure_5_22_Histogram_comparison_{noise}_noise\",)\n",
    "BE_viz.SHO_hist([LSQF_params, adam_params, trust_region_params], filename=f\"Figure_5_22_Histogram_comparison_{noise}_noise\",)"
   ]
  },
  {
   "cell_type": "markdown",
   "metadata": {},
   "source": [
    "**Figure 5.22** Histogram of the fit results based on fits with noise 1 for the a-d. LSQF, e-h. neural network with ADAM, i-l. neural network with trust region optimizers."
   ]
  },
  {
   "cell_type": "code",
   "execution_count": null,
   "metadata": {},
   "outputs": [],
   "source": [
    "LSQF_ = {'resampled': True,\n",
    "                'raw_format': 'complex',\n",
    "                'fitter': 'LSQF',\n",
    "                'scaled': False,\n",
    "                'output_shape': 'index',\n",
    "                'measurement_state': 'all',\n",
    "                'resampled_bins': 165,\n",
    "                'LSQF_phase_shift': 1.5707963267948966,\n",
    "                'NN_phase_shift': None,\n",
    "                'noise': noise}\n",
    "\n",
    "LSQF_Params = dataset.SHO_fit_results(state = LSQF_)\n",
    "\n",
    "adam_params = dataset.SHO_fit_results(model = model_adam, phase_shift = np.pi / 2)\n",
    "\n",
    "trust_region_params = dataset.SHO_fit_results(model = model_trust_region, phase_shift = np.pi / 2)\n",
    "\n",
    "BE_viz.SHO_switching_maps_test([LSQF_Params, adam_params, trust_region_params], filename=f\"Figure_5_23_switching_maps_comparison_{noise}_noise\", labels=[\"LSQF\", \"Adam\", \"SGD\"])"
   ]
  },
  {
   "cell_type": "markdown",
   "metadata": {},
   "source": [
    "**Figure 5.23** Visualize the switching based on the different models on the noisy data. "
   ]
  },
  {
   "cell_type": "code",
   "execution_count": null,
   "metadata": {},
   "outputs": [],
   "source": [
    "BE_viz.SHO_fit_movie_images(noise = noise, \n",
    "                            models = [None, model_adam, model_trust_region],\n",
    "                            scalebar_= True, \n",
    "                            basepath = \"Movies/SHO_NN_compare\",  \n",
    "                            filename=\"SHO_NN_compare\",\n",
    "                            phase_shift = [None, np.pi / 2, np.pi / 2])"
   ]
  },
  {
   "cell_type": "markdown",
   "metadata": {},
   "source": [
    "## Noise Level 4"
   ]
  },
  {
   "cell_type": "markdown",
   "metadata": {},
   "source": [
    "### Scaling the Data\n",
    "\n",
    "When training the neural network it is useful to scale the data. We apply a global scaler such that the spectrum have a mean of 0 and a standard deviation of 1.\n",
    "\n",
    "#### Visualizing the Scaled Data\n"
   ]
  },
  {
   "cell_type": "code",
   "execution_count": null,
   "metadata": {},
   "outputs": [],
   "source": [
    "# Sets the dataset\n",
    "noise = 4\n",
    "optimizer = \"Adam\"\n",
    "\n",
    "state = {\"fitter\": \"LSQF\", \"resampled\": True, \"scaled\": True, \"label\": \"Scaled\", \"noise\": noise}\n",
    "dataset.set_attributes(**state)\n",
    "\n",
    "BE_viz.nn_checker(state, filename=f\"Figure_5_24_Scaled Raw Data_noise{noise}_optimizer_{optimizer}\")"
   ]
  },
  {
   "cell_type": "markdown",
   "metadata": {},
   "source": [
    "**Figure 5.24** Example visualization of the scaled, noisy data which is used for training."
   ]
  },
  {
   "cell_type": "markdown",
   "metadata": {},
   "source": [
    "### Extracts the Data and Models"
   ]
  },
  {
   "cell_type": "code",
   "execution_count": null,
   "metadata": {},
   "outputs": [],
   "source": [
    "# extracts the x and y data based on the noise\n",
    "X_data, Y_data = dataset.NN_data()\n",
    "\n",
    "# searches the trained models for the best model\n",
    "model_name_adam = basepath + \"/\" + results[(noise, \"Adam\")]['filename'].split(\"//\")[-1] \n",
    "model_name_trust_region = basepath + \"/\" + results[(noise, \"Trust Region CG\")]['filename'].split(\"//\")[-1] \n",
    "\n",
    "# instantiate the model\n",
    "model_adam = SHO_Model(dataset, training=False)\n",
    "\n",
    "# instantiate the model\n",
    "model_trust_region = SHO_Model(dataset, training=False)\n",
    "\n",
    "model_adam.load(\n",
    "    model_name_adam\n",
    ")\n",
    "\n",
    "model_trust_region.load(\n",
    "    model_name_trust_region\n",
    ")"
   ]
  },
  {
   "cell_type": "markdown",
   "metadata": {},
   "source": [
    "### Evaluate the Fit Results\n",
    "\n",
    "It is always recommended to validate that the autoencoder is working correctly. We can do this by visualizing the best, median, and worst fits.\n",
    "\n",
    "We will assume that the autoencoder is working correctly and thus will not consider the test train split.\n",
    "\n",
    "Note: we are comparing the autoencoder results to the original data, not the noisy data. \n"
   ]
  },
  {
   "cell_type": "code",
   "execution_count": null,
   "metadata": {},
   "outputs": [],
   "source": [
    "LSQF_ = {'resampled': True,\n",
    "                'raw_format': 'complex',\n",
    "                'fitter': 'LSQF',\n",
    "                'scaled': True,\n",
    "                'output_shape': 'index',\n",
    "                'measurement_state': 'all',\n",
    "                'resampled_bins': 165,\n",
    "                'LSQF_phase_shift': 1.5707963267948966,\n",
    "                'NN_phase_shift': None,\n",
    "                'noise': noise}\n",
    "\n",
    "\n",
    "BE_viz.MSE_compare(X_data_no_noise, [model_adam, model_trust_region, LSQF_], [\"Adam\", \"Trust Region\", \"LSQF\"])"
   ]
  },
  {
   "cell_type": "markdown",
   "metadata": {},
   "source": [
    "#### Least Squares Fit"
   ]
  },
  {
   "cell_type": "code",
   "execution_count": null,
   "metadata": {},
   "outputs": [],
   "source": [
    "\n",
    "d1, d2, index1, mse1 = BE_viz.bmw_nn(\n",
    "    X_data,\n",
    "    prediction=LSQF_,\n",
    "    out_state={\"scaled\": True, \"raw_format\": \"complex\"},\n",
    "    returns=True,\n",
    "    filename=f\"Figure_5_25_NN_validation_noise_{noise}\",\n",
    "    compare_state = X_data_no_noise,\n",
    ")"
   ]
  },
  {
   "cell_type": "markdown",
   "metadata": {},
   "source": [
    "**Figure 5.25** Visualization of the noisy (noise level 1) fit results from the least squares fitting algorithm shows the best, median, and worst fits."
   ]
  },
  {
   "cell_type": "markdown",
   "metadata": {},
   "source": [
    "#### Neural Network with Adam Optimizer"
   ]
  },
  {
   "cell_type": "code",
   "execution_count": null,
   "metadata": {},
   "outputs": [],
   "source": [
    "d1, d2, index1, mse1 = BE_viz.bmw_nn(\n",
    "    X_data,\n",
    "    prediction=model_adam,\n",
    "    out_state={\"scaled\": True, \"raw_format\": \"complex\"},\n",
    "    returns=True,\n",
    "    filename=f\"Figure_5_26_NN_validation_noise_{noise}_Adam\",\n",
    "    compare_state = X_data_no_noise,\n",
    ")"
   ]
  },
  {
   "cell_type": "markdown",
   "metadata": {},
   "source": [
    "**Figure 5.26** Visualization of the noisy (noise level 0) fit results from the neural network trained with the Adam optimizers. We shows the best, median, and worst fits."
   ]
  },
  {
   "cell_type": "markdown",
   "metadata": {},
   "source": [
    "##### Neural Network with Trust Region Conjugate Gradient Optimizer"
   ]
  },
  {
   "cell_type": "code",
   "execution_count": null,
   "metadata": {},
   "outputs": [],
   "source": [
    "d1, d2, index1, mse1 = BE_viz.bmw_nn(\n",
    "    X_data,\n",
    "    prediction=model_trust_region,\n",
    "    out_state={\"scaled\": True, \"raw_format\": \"complex\"},\n",
    "    returns=True,\n",
    "    filename=f\"Figure_5_27_NN_validation_noise_{noise}_Trust_Region\",\n",
    "    compare_state = X_data_no_noise,\n",
    ")"
   ]
  },
  {
   "cell_type": "markdown",
   "metadata": {},
   "source": [
    "**Figure 5.27** Visualization of the noisy fit results from the neural network trained with the Adam optimizers. We shows the best, median, and worst fits."
   ]
  },
  {
   "cell_type": "markdown",
   "metadata": {},
   "source": [
    "### Histogram of Fit Results\n",
    "\n",
    "It is useful to view the histogram of the fitting results to apply any necessary phase shifts, and to see if the results are reasonable.\n"
   ]
  },
  {
   "cell_type": "code",
   "execution_count": null,
   "metadata": {},
   "outputs": [],
   "source": [
    "# make all the histograms the same bin range.\n",
    "\n",
    "LSQF_ = {'resampled': True,\n",
    "                'raw_format': 'complex',\n",
    "                'fitter': 'LSQF',\n",
    "                'scaled': False,\n",
    "                'output_shape': 'index',\n",
    "                'measurement_state': 'all',\n",
    "                'resampled_bins': 165,\n",
    "                'LSQF_phase_shift': 1.5707963267948966,\n",
    "                'NN_phase_shift': None,\n",
    "                'noise': noise}\n",
    "\n",
    "dataset.set_attributes(**LSQF_)\n",
    "\n",
    "LSQF_params = dataset.SHO_fit_results(state = LSQF_)\n",
    "\n",
    "# adam_params = dataset.SHO_fit_results(model = model_adam, phase_shift = np.pi / 2)\n",
    "\n",
    "# trust_region_params = dataset.SHO_fit_results(model = model_trust_region, phase_shift = np.pi / 2)\n",
    "\n",
    "adam_params = dataset.SHO_fit_results(model = model_adam, phase_shift = np.pi / 2)\n",
    "\n",
    "trust_region_params = dataset.SHO_fit_results(model = model_trust_region, phase_shift = np.pi / 2)\n",
    "\n",
    "#BE_viz.SHO_hist([LSQF_params, adam_params, trust_region_params], SHO_ranges = BE_viz.SHO_ranges, filename=f\"Figure_5_28_Histogram_comparison_{noise}_noise\",)\n",
    "BE_viz.SHO_hist([LSQF_params, adam_params, trust_region_params], filename=f\"Figure_5_28_Histogram_comparison_{noise}_noise\",)"
   ]
  },
  {
   "cell_type": "markdown",
   "metadata": {},
   "source": [
    "**Figure 5.28** Histogram of the fit results based on fits with noise 1 for the a-d. LSQF, e-h. neural network with ADAM, i-l. neural network with trust region optimizers."
   ]
  },
  {
   "cell_type": "code",
   "execution_count": null,
   "metadata": {},
   "outputs": [],
   "source": [
    "LSQF_ = {'resampled': True,\n",
    "                'raw_format': 'complex',\n",
    "                'fitter': 'LSQF',\n",
    "                'scaled': False,\n",
    "                'output_shape': 'index',\n",
    "                'measurement_state': 'all',\n",
    "                'resampled_bins': 165,\n",
    "                'LSQF_phase_shift': 1.5707963267948966,\n",
    "                'NN_phase_shift': None,\n",
    "                'noise': noise}\n",
    "\n",
    "LSQF_Params = dataset.SHO_fit_results(state = LSQF_)\n",
    "\n",
    "adam_params = dataset.SHO_fit_results(model = model_adam, phase_shift = np.pi / 2)\n",
    "\n",
    "trust_region_params = dataset.SHO_fit_results(model = model_trust_region, phase_shift = np.pi / 2)\n",
    "\n",
    "BE_viz.SHO_switching_maps_test([LSQF_Params, adam_params, trust_region_params], filename=f\"Figure_5_29_switching_maps_comparison_{noise}_noise\", labels=[\"LSQF\", \"Adam\", \"SGD\"])"
   ]
  },
  {
   "cell_type": "markdown",
   "metadata": {},
   "source": [
    "**Figure 5.29** Visualize the switching based on the different models on the noisy data. "
   ]
  },
  {
   "cell_type": "code",
   "execution_count": null,
   "metadata": {},
   "outputs": [],
   "source": [
    "BE_viz.SHO_fit_movie_images(noise = noise, \n",
    "                            models = [None, model_adam, model_trust_region],\n",
    "                            scalebar_= True, \n",
    "                            basepath = \"Movies/SHO_NN_compare\",  \n",
    "                            filename=\"SHO_NN_compare\",\n",
    "                            phase_shift = [None, np.pi / 2, np.pi / 2])"
   ]
  },
  {
   "cell_type": "code",
   "execution_count": null,
   "metadata": {},
   "outputs": [],
   "source": []
  },
  {
   "cell_type": "code",
   "execution_count": null,
   "metadata": {},
   "outputs": [],
   "source": []
  },
  {
   "cell_type": "markdown",
   "metadata": {},
   "source": [
    "## Noise Level 5"
   ]
  },
  {
   "cell_type": "markdown",
   "metadata": {},
   "source": [
    "### Scaling the Data\n",
    "\n",
    "When training the neural network it is useful to scale the data. We apply a global scaler such that the spectrum have a mean of 0 and a standard deviation of 1.\n",
    "\n",
    "#### Visualizing the Scaled Data\n"
   ]
  },
  {
   "cell_type": "code",
   "execution_count": null,
   "metadata": {},
   "outputs": [],
   "source": [
    "# Sets the dataset\n",
    "noise = 5\n",
    "optimizer = \"Adam\"\n",
    "\n",
    "state = {\"fitter\": \"LSQF\", \"resampled\": True, \"scaled\": True, \"label\": \"Scaled\", \"noise\": noise}\n",
    "dataset.set_attributes(**state)\n",
    "\n",
    "BE_viz.nn_checker(state, filename=f\"Figure_5_30_Scaled Raw Data_noise{noise}_optimizer_{optimizer}\")"
   ]
  },
  {
   "cell_type": "markdown",
   "metadata": {},
   "source": [
    "**Figure 5.30** Example visualization of the scaled, noisy data which is used for training."
   ]
  },
  {
   "cell_type": "markdown",
   "metadata": {},
   "source": [
    "### Extracts the Data and Models"
   ]
  },
  {
   "cell_type": "code",
   "execution_count": null,
   "metadata": {},
   "outputs": [],
   "source": [
    "# extracts the x and y data based on the noise\n",
    "X_data, Y_data = dataset.NN_data()\n",
    "\n",
    "# searches the trained models for the best model\n",
    "model_name_adam = basepath + \"/\" + results[(noise, \"Adam\")]['filename'].split(\"//\")[-1] \n",
    "model_name_trust_region = basepath + \"/\" + results[(noise, \"Trust Region CG\")]['filename'].split(\"//\")[-1] \n",
    "\n",
    "# instantiate the model\n",
    "model_adam = SHO_Model(dataset, training=False)\n",
    "\n",
    "# instantiate the model\n",
    "model_trust_region = SHO_Model(dataset, training=False)\n",
    "\n",
    "model_adam.load(\n",
    "    model_name_adam\n",
    ")\n",
    "\n",
    "model_trust_region.load(\n",
    "    model_name_trust_region\n",
    ")"
   ]
  },
  {
   "cell_type": "markdown",
   "metadata": {},
   "source": [
    "### Evaluate the Fit Results\n",
    "\n",
    "It is always recommended to validate that the autoencoder is working correctly. We can do this by visualizing the best, median, and worst fits.\n",
    "\n",
    "We will assume that the autoencoder is working correctly and thus will not consider the test train split.\n",
    "\n",
    "Note: we are comparing the autoencoder results to the original data, not the noisy data. \n"
   ]
  },
  {
   "cell_type": "code",
   "execution_count": null,
   "metadata": {},
   "outputs": [],
   "source": [
    "LSQF_ = {'resampled': True,\n",
    "                'raw_format': 'complex',\n",
    "                'fitter': 'LSQF',\n",
    "                'scaled': True,\n",
    "                'output_shape': 'index',\n",
    "                'measurement_state': 'all',\n",
    "                'resampled_bins': 165,\n",
    "                'LSQF_phase_shift': 1.5707963267948966,\n",
    "                'NN_phase_shift': None,\n",
    "                'noise': noise}\n",
    "\n",
    "\n",
    "BE_viz.MSE_compare(X_data_no_noise, [model_adam, model_trust_region, LSQF_], [\"Adam\", \"Trust Region\", \"LSQF\"])"
   ]
  },
  {
   "cell_type": "markdown",
   "metadata": {},
   "source": [
    "#### Least Squares Fit"
   ]
  },
  {
   "cell_type": "code",
   "execution_count": null,
   "metadata": {},
   "outputs": [],
   "source": [
    "\n",
    "d1, d2, index1, mse1 = BE_viz.bmw_nn(\n",
    "    X_data,\n",
    "    prediction=LSQF_,\n",
    "    out_state={\"scaled\": True, \"raw_format\": \"complex\"},\n",
    "    returns=True,\n",
    "    filename=f\"Figure_5_31_NN_validation_noise_{noise}\",\n",
    "    compare_state = X_data_no_noise,\n",
    ")"
   ]
  },
  {
   "cell_type": "markdown",
   "metadata": {},
   "source": [
    "**Figure 5.31** Visualization of the noisy (noise level 1) fit results from the least squares fitting algorithm shows the best, median, and worst fits."
   ]
  },
  {
   "cell_type": "markdown",
   "metadata": {},
   "source": [
    "#### Neural Network with Adam Optimizer"
   ]
  },
  {
   "cell_type": "code",
   "execution_count": null,
   "metadata": {},
   "outputs": [],
   "source": [
    "d1, d2, index1, mse1 = BE_viz.bmw_nn(\n",
    "    X_data,\n",
    "    prediction=model_adam,\n",
    "    out_state={\"scaled\": True, \"raw_format\": \"complex\"},\n",
    "    returns=True,\n",
    "    filename=f\"Figure_5_32_NN_validation_noise_{noise}_Adam\",\n",
    "    compare_state = X_data_no_noise,\n",
    ")"
   ]
  },
  {
   "cell_type": "markdown",
   "metadata": {},
   "source": [
    "**Figure 5.32** Visualization of the noisy (noise level 0) fit results from the neural network trained with the Adam optimizers. We shows the best, median, and worst fits."
   ]
  },
  {
   "cell_type": "markdown",
   "metadata": {},
   "source": [
    "##### Neural Network with Trust Region Conjugate Gradient Optimizer"
   ]
  },
  {
   "cell_type": "code",
   "execution_count": null,
   "metadata": {},
   "outputs": [],
   "source": [
    "d1, d2, index1, mse1 = BE_viz.bmw_nn(\n",
    "    X_data,\n",
    "    prediction=model_trust_region,\n",
    "    out_state={\"scaled\": True, \"raw_format\": \"complex\"},\n",
    "    returns=True,\n",
    "    filename=f\"Figure_5_33_NN_validation_noise_{noise}_Trust_Region\",\n",
    "    compare_state = X_data_no_noise,\n",
    ")"
   ]
  },
  {
   "cell_type": "markdown",
   "metadata": {},
   "source": [
    "**Figure 5.33** Visualization of the noisy fit results from the neural network trained with the Adam optimizers. We shows the best, median, and worst fits."
   ]
  },
  {
   "cell_type": "markdown",
   "metadata": {},
   "source": [
    "### Histogram of Fit Results\n",
    "\n",
    "It is useful to view the histogram of the fitting results to apply any necessary phase shifts, and to see if the results are reasonable.\n"
   ]
  },
  {
   "cell_type": "code",
   "execution_count": null,
   "metadata": {},
   "outputs": [],
   "source": [
    "# make all the histograms the same bin range.\n",
    "\n",
    "LSQF_ = {'resampled': True,\n",
    "                'raw_format': 'complex',\n",
    "                'fitter': 'LSQF',\n",
    "                'scaled': False,\n",
    "                'output_shape': 'index',\n",
    "                'measurement_state': 'all',\n",
    "                'resampled_bins': 165,\n",
    "                'LSQF_phase_shift': 1.5707963267948966,\n",
    "                'NN_phase_shift': None,\n",
    "                'noise': noise}\n",
    "\n",
    "dataset.set_attributes(**LSQF_)\n",
    "\n",
    "LSQF_params = dataset.SHO_fit_results(state = LSQF_)\n",
    "\n",
    "# adam_params = dataset.SHO_fit_results(model = model_adam, phase_shift = np.pi / 2)\n",
    "\n",
    "# trust_region_params = dataset.SHO_fit_results(model = model_trust_region, phase_shift = np.pi / 2)\n",
    "\n",
    "adam_params = dataset.SHO_fit_results(model = model_adam, phase_shift = np.pi / 2)\n",
    "\n",
    "trust_region_params = dataset.SHO_fit_results(model = model_trust_region, phase_shift = np.pi / 2)\n",
    "\n",
    "#BE_viz.SHO_hist([LSQF_params, adam_params, trust_region_params], SHO_ranges = BE_viz.SHO_ranges, filename=f\"Figure_5_34_Histogram_comparison_{noise}_noise\",)\n",
    "BE_viz.SHO_hist([LSQF_params, adam_params, trust_region_params], filename=f\"Figure_5_34_Histogram_comparison_{noise}_noise\",)"
   ]
  },
  {
   "cell_type": "markdown",
   "metadata": {},
   "source": [
    "**Figure 5.34** Histogram of the fit results based on fits with noise 1 for the a-d. LSQF, e-h. neural network with ADAM, i-l. neural network with trust region optimizers."
   ]
  },
  {
   "cell_type": "code",
   "execution_count": null,
   "metadata": {},
   "outputs": [],
   "source": [
    "LSQF_ = {'resampled': True,\n",
    "                'raw_format': 'complex',\n",
    "                'fitter': 'LSQF',\n",
    "                'scaled': False,\n",
    "                'output_shape': 'index',\n",
    "                'measurement_state': 'all',\n",
    "                'resampled_bins': 165,\n",
    "                'LSQF_phase_shift': 1.5707963267948966,\n",
    "                'NN_phase_shift': None,\n",
    "                'noise': noise}\n",
    "\n",
    "LSQF_Params = dataset.SHO_fit_results(state = LSQF_)\n",
    "\n",
    "adam_params = dataset.SHO_fit_results(model = model_adam, phase_shift = np.pi / 2)\n",
    "\n",
    "trust_region_params = dataset.SHO_fit_results(model = model_trust_region, phase_shift = np.pi / 2)\n",
    "\n",
    "BE_viz.SHO_switching_maps_test([LSQF_Params, adam_params, trust_region_params], filename=f\"Figure_5_35_switching_maps_comparison_{noise}_noise\", labels=[\"LSQF\", \"Adam\", \"SGD\"])"
   ]
  },
  {
   "cell_type": "markdown",
   "metadata": {},
   "source": [
    "**Figure 5.35** Visualize the switching based on the different models on the noisy data. "
   ]
  },
  {
   "cell_type": "code",
   "execution_count": null,
   "metadata": {},
   "outputs": [],
   "source": [
    "BE_viz.SHO_fit_movie_images(noise = noise, \n",
    "                            models = [None, model_adam, model_trust_region],\n",
    "                            scalebar_= True, \n",
    "                            basepath = \"Movies/SHO_NN_compare\",  \n",
    "                            filename=\"SHO_NN_compare\",\n",
    "                            phase_shift = [None, np.pi / 2, np.pi / 2])"
   ]
  },
  {
   "cell_type": "code",
   "execution_count": null,
   "metadata": {},
   "outputs": [],
   "source": []
  },
  {
   "cell_type": "markdown",
   "metadata": {},
   "source": [
    "## Noise Level 6"
   ]
  },
  {
   "cell_type": "markdown",
   "metadata": {},
   "source": [
    "### Scaling the Data\n",
    "\n",
    "When training the neural network it is useful to scale the data. We apply a global scaler such that the spectrum have a mean of 0 and a standard deviation of 1.\n",
    "\n",
    "#### Visualizing the Scaled Data\n"
   ]
  },
  {
   "cell_type": "code",
   "execution_count": null,
   "metadata": {},
   "outputs": [],
   "source": [
    "# Sets the dataset\n",
    "noise = 6\n",
    "optimizer = \"Adam\"\n",
    "\n",
    "state = {\"fitter\": \"LSQF\", \"resampled\": True, \"scaled\": True, \"label\": \"Scaled\", \"noise\": noise}\n",
    "dataset.set_attributes(**state)\n",
    "\n",
    "BE_viz.nn_checker(state, filename=f\"Figure_5_36_Scaled Raw Data_noise{noise}_optimizer_{optimizer}\")"
   ]
  },
  {
   "cell_type": "markdown",
   "metadata": {},
   "source": [
    "**Figure 5.36** Example visualization of the scaled, noisy data which is used for training."
   ]
  },
  {
   "cell_type": "markdown",
   "metadata": {},
   "source": [
    "### Extracts the Data and Models"
   ]
  },
  {
   "cell_type": "code",
   "execution_count": null,
   "metadata": {},
   "outputs": [],
   "source": [
    "# extracts the x and y data based on the noise\n",
    "X_data, Y_data = dataset.NN_data()\n",
    "\n",
    "# searches the trained models for the best model\n",
    "model_name_adam = basepath + \"/\" + results[(noise, \"Adam\")]['filename'].split(\"//\")[-1] \n",
    "model_name_trust_region = basepath + \"/\" + results[(noise, \"Trust Region CG\")]['filename'].split(\"//\")[-1] \n",
    "\n",
    "# instantiate the model\n",
    "model_adam = SHO_Model(dataset, training=False)\n",
    "\n",
    "# instantiate the model\n",
    "model_trust_region = SHO_Model(dataset, training=False)\n",
    "\n",
    "model_adam.load(\n",
    "    model_name_adam\n",
    ")\n",
    "\n",
    "model_trust_region.load(\n",
    "    model_name_trust_region\n",
    ")"
   ]
  },
  {
   "cell_type": "markdown",
   "metadata": {},
   "source": [
    "### Evaluate the Fit Results\n",
    "\n",
    "It is always recommended to validate that the autoencoder is working correctly. We can do this by visualizing the best, median, and worst fits.\n",
    "\n",
    "We will assume that the autoencoder is working correctly and thus will not consider the test train split.\n",
    "\n",
    "Note: we are comparing the autoencoder results to the original data, not the noisy data. \n"
   ]
  },
  {
   "cell_type": "code",
   "execution_count": null,
   "metadata": {},
   "outputs": [],
   "source": [
    "LSQF_ = {'resampled': True,\n",
    "                'raw_format': 'complex',\n",
    "                'fitter': 'LSQF',\n",
    "                'scaled': True,\n",
    "                'output_shape': 'index',\n",
    "                'measurement_state': 'all',\n",
    "                'resampled_bins': 165,\n",
    "                'LSQF_phase_shift': 1.5707963267948966,\n",
    "                'NN_phase_shift': None,\n",
    "                'noise': noise}\n",
    "\n",
    "\n",
    "BE_viz.MSE_compare(X_data_no_noise, [model_adam, model_trust_region, LSQF_], [\"Adam\", \"Trust Region\", \"LSQF\"])"
   ]
  },
  {
   "cell_type": "markdown",
   "metadata": {},
   "source": [
    "#### Least Squares Fit"
   ]
  },
  {
   "cell_type": "code",
   "execution_count": null,
   "metadata": {},
   "outputs": [],
   "source": [
    "\n",
    "d1, d2, index1, mse1 = BE_viz.bmw_nn(\n",
    "    X_data,\n",
    "    prediction=LSQF_,\n",
    "    out_state={\"scaled\": True, \"raw_format\": \"complex\"},\n",
    "    returns=True,\n",
    "    filename=f\"Figure_5_37_NN_validation_noise_{noise}\",\n",
    "    compare_state = X_data_no_noise,\n",
    ")"
   ]
  },
  {
   "cell_type": "markdown",
   "metadata": {},
   "source": [
    "**Figure 5.37** Visualization of the noisy (noise level 1) fit results from the least squares fitting algorithm shows the best, median, and worst fits."
   ]
  },
  {
   "cell_type": "markdown",
   "metadata": {},
   "source": [
    "#### Neural Network with Adam Optimizer"
   ]
  },
  {
   "cell_type": "code",
   "execution_count": null,
   "metadata": {},
   "outputs": [],
   "source": [
    "d1, d2, index1, mse1 = BE_viz.bmw_nn(\n",
    "    X_data,\n",
    "    prediction=model_adam,\n",
    "    out_state={\"scaled\": True, \"raw_format\": \"complex\"},\n",
    "    returns=True,\n",
    "    filename=f\"Figure_5_38_NN_validation_noise_{noise}_Adam\",\n",
    "    compare_state = X_data_no_noise,\n",
    ")"
   ]
  },
  {
   "cell_type": "markdown",
   "metadata": {},
   "source": [
    "**Figure 5.38** Visualization of the noisy (noise level 0) fit results from the neural network trained with the Adam optimizers. We shows the best, median, and worst fits."
   ]
  },
  {
   "cell_type": "markdown",
   "metadata": {},
   "source": [
    "##### Neural Network with Trust Region Conjugate Gradient Optimizer"
   ]
  },
  {
   "cell_type": "code",
   "execution_count": null,
   "metadata": {},
   "outputs": [],
   "source": [
    "d1, d2, index1, mse1 = BE_viz.bmw_nn(\n",
    "    X_data,\n",
    "    prediction=model_trust_region,\n",
    "    out_state={\"scaled\": True, \"raw_format\": \"complex\"},\n",
    "    returns=True,\n",
    "    filename=f\"Figure_5_39_NN_validation_noise_{noise}_Trust_Region\",\n",
    "    compare_state = X_data_no_noise,\n",
    ")"
   ]
  },
  {
   "cell_type": "markdown",
   "metadata": {},
   "source": [
    "**Figure 5.39** Visualization of the noisy fit results from the neural network trained with the Adam optimizers. We shows the best, median, and worst fits."
   ]
  },
  {
   "cell_type": "markdown",
   "metadata": {},
   "source": [
    "### Histogram of Fit Results\n",
    "\n",
    "It is useful to view the histogram of the fitting results to apply any necessary phase shifts, and to see if the results are reasonable.\n"
   ]
  },
  {
   "cell_type": "code",
   "execution_count": null,
   "metadata": {},
   "outputs": [],
   "source": [
    "# make all the histograms the same bin range.\n",
    "\n",
    "LSQF_ = {'resampled': True,\n",
    "                'raw_format': 'complex',\n",
    "                'fitter': 'LSQF',\n",
    "                'scaled': False,\n",
    "                'output_shape': 'index',\n",
    "                'measurement_state': 'all',\n",
    "                'resampled_bins': 165,\n",
    "                'LSQF_phase_shift': 1.5707963267948966,\n",
    "                'NN_phase_shift': None,\n",
    "                'noise': noise}\n",
    "\n",
    "dataset.set_attributes(**LSQF_)\n",
    "\n",
    "LSQF_params = dataset.SHO_fit_results(state = LSQF_)\n",
    "\n",
    "adam_params = dataset.SHO_fit_results(model = model_adam, phase_shift = np.pi / 2)\n",
    "\n",
    "trust_region_params = dataset.SHO_fit_results(model = model_trust_region, phase_shift = np.pi / 2)\n",
    "\n",
    "#BE_viz.SHO_hist([LSQF_params, adam_params, trust_region_params], SHO_ranges = BE_viz.SHO_ranges, filename=f\"Figure_5_40_Histogram_comparison_{noise}_noise\",)\n",
    "BE_viz.SHO_hist([LSQF_params, adam_params, trust_region_params], filename=f\"Figure_5_40_Histogram_comparison_{noise}_noise\",)"
   ]
  },
  {
   "cell_type": "markdown",
   "metadata": {},
   "source": [
    "**Figure 5.40** Histogram of the fit results based on fits with noise 1 for the a-d. LSQF, e-h. neural network with ADAM, i-l. neural network with trust region optimizers."
   ]
  },
  {
   "cell_type": "code",
   "execution_count": null,
   "metadata": {},
   "outputs": [],
   "source": [
    "LSQF_ = {'resampled': True,\n",
    "                'raw_format': 'complex',\n",
    "                'fitter': 'LSQF',\n",
    "                'scaled': False,\n",
    "                'output_shape': 'index',\n",
    "                'measurement_state': 'all',\n",
    "                'resampled_bins': 165,\n",
    "                'LSQF_phase_shift': 1.5707963267948966,\n",
    "                'NN_phase_shift': None,\n",
    "                'noise': noise}\n",
    "\n",
    "LSQF_Params = dataset.SHO_fit_results(state = LSQF_)\n",
    "\n",
    "adam_params = dataset.SHO_fit_results(model = model_adam, phase_shift = np.pi / 2)\n",
    "\n",
    "trust_region_params = dataset.SHO_fit_results(model = model_trust_region, phase_shift = np.pi / 2)\n",
    "\n",
    "BE_viz.SHO_switching_maps_test([LSQF_Params, adam_params, trust_region_params], filename=f\"Figure_5_41_switching_maps_comparison_{noise}_noise\", labels=[\"LSQF\", \"Adam\", \"SGD\"])"
   ]
  },
  {
   "cell_type": "markdown",
   "metadata": {},
   "source": [
    "**Figure 5.41** Visualize the switching based on the different models on the noisy data. "
   ]
  },
  {
   "cell_type": "code",
   "execution_count": null,
   "metadata": {},
   "outputs": [],
   "source": [
    "BE_viz.SHO_fit_movie_images(noise = noise, \n",
    "                            models = [None, model_adam, model_trust_region],\n",
    "                            scalebar_= True, \n",
    "                            basepath = \"Movies/SHO_NN_compare\",  \n",
    "                            filename=\"SHO_NN_compare\",\n",
    "                            phase_shift = [None, np.pi / 2, np.pi / 2])"
   ]
  },
  {
   "cell_type": "code",
   "execution_count": null,
   "metadata": {},
   "outputs": [],
   "source": []
  },
  {
   "cell_type": "markdown",
   "metadata": {},
   "source": [
    "## Noise Level 7"
   ]
  },
  {
   "cell_type": "markdown",
   "metadata": {},
   "source": [
    "### Scaling the Data\n",
    "\n",
    "When training the neural network it is useful to scale the data. We apply a global scaler such that the spectrum have a mean of 0 and a standard deviation of 1.\n",
    "\n",
    "#### Visualizing the Scaled Data\n"
   ]
  },
  {
   "cell_type": "code",
   "execution_count": null,
   "metadata": {},
   "outputs": [],
   "source": [
    "# Sets the dataset\n",
    "noise = 7\n",
    "optimizer = \"Adam\"\n",
    "\n",
    "state = {\"fitter\": \"LSQF\", \"resampled\": True, \"scaled\": True, \"label\": \"Scaled\", \"noise\": noise}\n",
    "dataset.set_attributes(**state)\n",
    "\n",
    "BE_viz.nn_checker(state, filename=f\"Figure_5_42_Scaled Raw Data_noise{noise}_optimizer_{optimizer}\")"
   ]
  },
  {
   "cell_type": "markdown",
   "metadata": {},
   "source": [
    "**Figure 5.42** Example visualization of the scaled, noisy data which is used for training."
   ]
  },
  {
   "cell_type": "markdown",
   "metadata": {},
   "source": [
    "### Extracts the Data and Models"
   ]
  },
  {
   "cell_type": "code",
   "execution_count": null,
   "metadata": {},
   "outputs": [],
   "source": [
    "# extracts the x and y data based on the noise\n",
    "X_data, Y_data = dataset.NN_data()\n",
    "\n",
    "# searches the trained models for the best model\n",
    "model_name_adam = basepath + \"/\" + results[(noise, \"Adam\")]['filename'].split(\"//\")[-1] \n",
    "model_name_trust_region = basepath + \"/\" + results[(noise, \"Trust Region CG\")]['filename'].split(\"//\")[-1] \n",
    "\n",
    "# instantiate the model\n",
    "model_adam = SHO_Model(dataset, training=False)\n",
    "\n",
    "# instantiate the model\n",
    "model_trust_region = SHO_Model(dataset, training=False)\n",
    "\n",
    "model_adam.load(\n",
    "    model_name_adam\n",
    ")\n",
    "\n",
    "model_trust_region.load(\n",
    "    model_name_trust_region\n",
    ")"
   ]
  },
  {
   "cell_type": "markdown",
   "metadata": {},
   "source": [
    "### Evaluate the Fit Results\n",
    "\n",
    "It is always recommended to validate that the autoencoder is working correctly. We can do this by visualizing the best, median, and worst fits.\n",
    "\n",
    "We will assume that the autoencoder is working correctly and thus will not consider the test train split.\n",
    "\n",
    "Note: we are comparing the autoencoder results to the original data, not the noisy data. \n"
   ]
  },
  {
   "cell_type": "code",
   "execution_count": null,
   "metadata": {},
   "outputs": [],
   "source": [
    "LSQF_ = {'resampled': True,\n",
    "                'raw_format': 'complex',\n",
    "                'fitter': 'LSQF',\n",
    "                'scaled': True,\n",
    "                'output_shape': 'index',\n",
    "                'measurement_state': 'all',\n",
    "                'resampled_bins': 165,\n",
    "                'LSQF_phase_shift': 1.5707963267948966,\n",
    "                'NN_phase_shift': None,\n",
    "                'noise': noise}\n",
    "\n",
    "\n",
    "BE_viz.MSE_compare(X_data_no_noise, [model_adam, model_trust_region, LSQF_], [\"Adam\", \"Trust Region\", \"LSQF\"])"
   ]
  },
  {
   "cell_type": "markdown",
   "metadata": {},
   "source": [
    "#### Least Squares Fit"
   ]
  },
  {
   "cell_type": "code",
   "execution_count": null,
   "metadata": {},
   "outputs": [],
   "source": [
    "\n",
    "d1, d2, index1, mse1 = BE_viz.bmw_nn(\n",
    "    X_data,\n",
    "    prediction=LSQF_,\n",
    "    out_state={\"scaled\": True, \"raw_format\": \"complex\"},\n",
    "    returns=True,\n",
    "    filename=f\"Figure_5_43_NN_validation_noise_{noise}\",\n",
    "    compare_state = X_data_no_noise,\n",
    ")"
   ]
  },
  {
   "cell_type": "markdown",
   "metadata": {},
   "source": [
    "**Figure 5.43** Visualization of the noisy (noise level 1) fit results from the least squares fitting algorithm shows the best, median, and worst fits."
   ]
  },
  {
   "cell_type": "markdown",
   "metadata": {},
   "source": [
    "#### Neural Network with Adam Optimizer"
   ]
  },
  {
   "cell_type": "code",
   "execution_count": null,
   "metadata": {},
   "outputs": [],
   "source": [
    "d1, d2, index1, mse1 = BE_viz.bmw_nn(\n",
    "    X_data,\n",
    "    prediction=model_adam,\n",
    "    out_state={\"scaled\": True, \"raw_format\": \"complex\"},\n",
    "    returns=True,\n",
    "    filename=f\"Figure_5_44_NN_validation_noise_{noise}_Adam\",\n",
    "    compare_state = X_data_no_noise,\n",
    ")"
   ]
  },
  {
   "cell_type": "markdown",
   "metadata": {},
   "source": [
    "**Figure 5.44** Visualization of the noisy (noise level 0) fit results from the neural network trained with the Adam optimizers. We shows the best, median, and worst fits."
   ]
  },
  {
   "cell_type": "markdown",
   "metadata": {},
   "source": [
    "##### Neural Network with Trust Region Conjugate Gradient Optimizer"
   ]
  },
  {
   "cell_type": "code",
   "execution_count": null,
   "metadata": {},
   "outputs": [],
   "source": [
    "d1, d2, index1, mse1 = BE_viz.bmw_nn(\n",
    "    X_data,\n",
    "    prediction=model_trust_region,\n",
    "    out_state={\"scaled\": True, \"raw_format\": \"complex\"},\n",
    "    returns=True,\n",
    "    filename=f\"Figure_5_45_NN_validation_noise_{noise}_Trust_Region\",\n",
    "    compare_state = X_data_no_noise,\n",
    ")"
   ]
  },
  {
   "cell_type": "markdown",
   "metadata": {},
   "source": [
    "**Figure 5.45** Visualization of the noisy fit results from the neural network trained with the Adam optimizers. We shows the best, median, and worst fits."
   ]
  },
  {
   "cell_type": "markdown",
   "metadata": {},
   "source": [
    "### Histogram of Fit Results\n",
    "\n",
    "It is useful to view the histogram of the fitting results to apply any necessary phase shifts, and to see if the results are reasonable.\n"
   ]
  },
  {
   "cell_type": "code",
   "execution_count": null,
   "metadata": {},
   "outputs": [],
   "source": [
    "# make all the histograms the same bin range.\n",
    "\n",
    "LSQF_ = {'resampled': True,\n",
    "                'raw_format': 'complex',\n",
    "                'fitter': 'LSQF',\n",
    "                'scaled': False,\n",
    "                'output_shape': 'index',\n",
    "                'measurement_state': 'all',\n",
    "                'resampled_bins': 165,\n",
    "                'LSQF_phase_shift': 1.5707963267948966,\n",
    "                'NN_phase_shift': None,\n",
    "                'noise': noise}\n",
    "\n",
    "dataset.set_attributes(**LSQF_)\n",
    "\n",
    "LSQF_params = dataset.SHO_fit_results(state = LSQF_)\n",
    "\n",
    "# adam_params = dataset.SHO_fit_results(model = model_adam, phase_shift = np.pi / 2)\n",
    "\n",
    "# trust_region_params = dataset.SHO_fit_results(model = model_trust_region, phase_shift = np.pi / 2)\n",
    "\n",
    "adam_params = dataset.SHO_fit_results(model = model_adam, phase_shift = np.pi / 2)\n",
    "\n",
    "trust_region_params = dataset.SHO_fit_results(model = model_trust_region, phase_shift = np.pi / 2)\n",
    "\n",
    "#BE_viz.SHO_hist([LSQF_params, adam_params, trust_region_params], SHO_ranges = BE_viz.SHO_ranges, filename=f\"Figure_5_46_Histogram_comparison_{noise}_noise\",)\n",
    "BE_viz.SHO_hist([LSQF_params, adam_params, trust_region_params], filename=f\"Figure_5_46_Histogram_comparison_{noise}_noise\",)"
   ]
  },
  {
   "cell_type": "markdown",
   "metadata": {},
   "source": [
    "**Figure 5.46** Histogram of the fit results based on fits with noise 1 for the a-d. LSQF, e-h. neural network with ADAM, i-l. neural network with trust region optimizers."
   ]
  },
  {
   "cell_type": "code",
   "execution_count": null,
   "metadata": {},
   "outputs": [],
   "source": [
    "LSQF_ = {'resampled': True,\n",
    "                'raw_format': 'complex',\n",
    "                'fitter': 'LSQF',\n",
    "                'scaled': False,\n",
    "                'output_shape': 'index',\n",
    "                'measurement_state': 'all',\n",
    "                'resampled_bins': 165,\n",
    "                'LSQF_phase_shift': 1.5707963267948966,\n",
    "                'NN_phase_shift': None,\n",
    "                'noise': noise}\n",
    "\n",
    "LSQF_Params = dataset.SHO_fit_results(state = LSQF_)\n",
    "\n",
    "adam_params = dataset.SHO_fit_results(model = model_adam, phase_shift = np.pi / 2)\n",
    "\n",
    "trust_region_params = dataset.SHO_fit_results(model = model_trust_region, phase_shift = np.pi / 2)\n",
    "\n",
    "BE_viz.SHO_switching_maps_test([LSQF_Params, adam_params, trust_region_params], filename=f\"Figure_5_47_switching_maps_comparison_{noise}_noise\", labels=[\"LSQF\", \"Adam\", \"SGD\"])"
   ]
  },
  {
   "cell_type": "markdown",
   "metadata": {},
   "source": [
    "**Figure 5.47** Visualize the switching based on the different models on the noisy data. "
   ]
  },
  {
   "cell_type": "code",
   "execution_count": null,
   "metadata": {},
   "outputs": [],
   "source": [
    "BE_viz.SHO_fit_movie_images(noise = noise, \n",
    "                            models = [None, model_adam, model_trust_region],\n",
    "                            scalebar_= True, \n",
    "                            basepath = \"Movies/SHO_NN_compare\",  \n",
    "                            filename=\"SHO_NN_compare\",\n",
    "                            phase_shift = [None, np.pi / 2, np.pi / 2])"
   ]
  },
  {
   "cell_type": "code",
   "execution_count": null,
   "metadata": {},
   "outputs": [],
   "source": []
  },
  {
   "cell_type": "markdown",
   "metadata": {},
   "source": [
    "## Noise Level 8"
   ]
  },
  {
   "cell_type": "markdown",
   "metadata": {},
   "source": [
    "### Scaling the Data\n",
    "\n",
    "When training the neural network it is useful to scale the data. We apply a global scaler such that the spectrum have a mean of 0 and a standard deviation of 1.\n",
    "\n",
    "#### Visualizing the Scaled Data\n"
   ]
  },
  {
   "cell_type": "code",
   "execution_count": null,
   "metadata": {},
   "outputs": [],
   "source": [
    "# Sets the dataset\n",
    "noise = 8\n",
    "optimizer = \"Adam\"\n",
    "\n",
    "state = {\"fitter\": \"LSQF\", \"resampled\": True, \"scaled\": True, \"label\": \"Scaled\", \"noise\": noise}\n",
    "dataset.set_attributes(**state)\n",
    "\n",
    "BE_viz.nn_checker(state, filename=f\"Figure_5_48_Scaled Raw Data_noise{noise}_optimizer_{optimizer}\")"
   ]
  },
  {
   "cell_type": "markdown",
   "metadata": {},
   "source": [
    "**Figure 5.48** Example visualization of the scaled, noisy data which is used for training."
   ]
  },
  {
   "cell_type": "markdown",
   "metadata": {},
   "source": [
    "### Extracts the Data and Models"
   ]
  },
  {
   "cell_type": "code",
   "execution_count": null,
   "metadata": {},
   "outputs": [],
   "source": [
    "# extracts the x and y data based on the noise\n",
    "X_data, Y_data = dataset.NN_data()\n",
    "\n",
    "# searches the trained models for the best model\n",
    "model_name_adam = basepath + \"/\" + results[(noise, \"Adam\")]['filename'].split(\"//\")[-1] \n",
    "model_name_trust_region = basepath + \"/\" + results[(noise, \"Trust Region CG\")]['filename'].split(\"//\")[-1] \n",
    "\n",
    "# instantiate the model\n",
    "model_adam = SHO_Model(dataset, training=False)\n",
    "\n",
    "# instantiate the model\n",
    "model_trust_region = SHO_Model(dataset, training=False)\n",
    "\n",
    "model_adam.load(\n",
    "    model_name_adam\n",
    ")\n",
    "\n",
    "model_trust_region.load(\n",
    "    model_name_trust_region\n",
    ")"
   ]
  },
  {
   "cell_type": "markdown",
   "metadata": {},
   "source": [
    "### Evaluate the Fit Results\n",
    "\n",
    "It is always recommended to validate that the autoencoder is working correctly. We can do this by visualizing the best, median, and worst fits.\n",
    "\n",
    "We will assume that the autoencoder is working correctly and thus will not consider the test train split.\n",
    "\n",
    "Note: we are comparing the autoencoder results to the original data, not the noisy data. \n"
   ]
  },
  {
   "cell_type": "code",
   "execution_count": null,
   "metadata": {},
   "outputs": [],
   "source": [
    "LSQF_ = {'resampled': True,\n",
    "                'raw_format': 'complex',\n",
    "                'fitter': 'LSQF',\n",
    "                'scaled': True,\n",
    "                'output_shape': 'index',\n",
    "                'measurement_state': 'all',\n",
    "                'resampled_bins': 165,\n",
    "                'LSQF_phase_shift': 1.5707963267948966,\n",
    "                'NN_phase_shift': None,\n",
    "                'noise': noise}\n",
    "\n",
    "\n",
    "BE_viz.MSE_compare(X_data_no_noise, [model_adam, model_trust_region, LSQF_], [\"Adam\", \"Trust Region\", \"LSQF\"])"
   ]
  },
  {
   "cell_type": "markdown",
   "metadata": {},
   "source": [
    "#### Least Squares Fit"
   ]
  },
  {
   "cell_type": "code",
   "execution_count": null,
   "metadata": {},
   "outputs": [],
   "source": [
    "\n",
    "d1, d2, index1, mse1 = BE_viz.bmw_nn(\n",
    "    X_data,\n",
    "    prediction=LSQF_,\n",
    "    out_state={\"scaled\": True, \"raw_format\": \"complex\"},\n",
    "    returns=True,\n",
    "    filename=f\"Figure_5_49_NN_validation_noise_{noise}\",\n",
    "    compare_state = X_data_no_noise,\n",
    ")"
   ]
  },
  {
   "cell_type": "markdown",
   "metadata": {},
   "source": [
    "**Figure 5.49** Visualization of the noisy (noise level 1) fit results from the least squares fitting algorithm shows the best, median, and worst fits."
   ]
  },
  {
   "cell_type": "markdown",
   "metadata": {},
   "source": [
    "#### Neural Network with Adam Optimizer"
   ]
  },
  {
   "cell_type": "code",
   "execution_count": null,
   "metadata": {},
   "outputs": [],
   "source": [
    "d1, d2, index1, mse1 = BE_viz.bmw_nn(\n",
    "    X_data,\n",
    "    prediction=model_adam,\n",
    "    out_state={\"scaled\": True, \"raw_format\": \"complex\"},\n",
    "    returns=True,\n",
    "    filename=f\"Figure_5_50_NN_validation_noise_{noise}_Adam\",\n",
    "    compare_state = X_data_no_noise,\n",
    ")"
   ]
  },
  {
   "cell_type": "markdown",
   "metadata": {},
   "source": [
    "**Figure 5.50** Visualization of the noisy (noise level 0) fit results from the neural network trained with the Adam optimizers. We shows the best, median, and worst fits."
   ]
  },
  {
   "cell_type": "markdown",
   "metadata": {},
   "source": [
    "##### Neural Network with Trust Region Conjugate Gradient Optimizer"
   ]
  },
  {
   "cell_type": "code",
   "execution_count": null,
   "metadata": {},
   "outputs": [],
   "source": [
    "d1, d2, index1, mse1 = BE_viz.bmw_nn(\n",
    "    X_data,\n",
    "    prediction=model_trust_region,\n",
    "    out_state={\"scaled\": True, \"raw_format\": \"complex\"},\n",
    "    returns=True,\n",
    "    filename=f\"Figure_5_51_NN_validation_noise_{noise}_Trust_Region\",\n",
    "    compare_state = X_data_no_noise,\n",
    ")"
   ]
  },
  {
   "cell_type": "markdown",
   "metadata": {},
   "source": [
    "**Figure 5.51** Visualization of the noisy fit results from the neural network trained with the Adam optimizers. We shows the best, median, and worst fits."
   ]
  },
  {
   "cell_type": "markdown",
   "metadata": {},
   "source": [
    "### Histogram of Fit Results\n",
    "\n",
    "It is useful to view the histogram of the fitting results to apply any necessary phase shifts, and to see if the results are reasonable.\n"
   ]
  },
  {
   "cell_type": "code",
   "execution_count": null,
   "metadata": {},
   "outputs": [],
   "source": [
    "# make all the histograms the same bin range.\n",
    "\n",
    "LSQF_ = {'resampled': True,\n",
    "                'raw_format': 'complex',\n",
    "                'fitter': 'LSQF',\n",
    "                'scaled': False,\n",
    "                'output_shape': 'index',\n",
    "                'measurement_state': 'all',\n",
    "                'resampled_bins': 165,\n",
    "                'LSQF_phase_shift': 1.5707963267948966,\n",
    "                'NN_phase_shift': None,\n",
    "                'noise': noise}\n",
    "\n",
    "dataset.set_attributes(**LSQF_)\n",
    "\n",
    "LSQF_params = dataset.SHO_fit_results(state = LSQF_)\n",
    "\n",
    "# adam_params = dataset.SHO_fit_results(model = model_adam, phase_shift = np.pi / 2)\n",
    "\n",
    "# trust_region_params = dataset.SHO_fit_results(model = model_trust_region, phase_shift = np.pi / 2)\n",
    "\n",
    "adam_params = dataset.SHO_fit_results(model = model_adam, phase_shift = np.pi / 2)\n",
    "\n",
    "trust_region_params = dataset.SHO_fit_results(model = model_trust_region, phase_shift = np.pi / 2)\n",
    "\n",
    "#BE_viz.SHO_hist([LSQF_params, adam_params, trust_region_params], SHO_ranges = BE_viz.SHO_ranges, filename=f\"Figure_5_52_Histogram_comparison_{noise}_noise\",)\n",
    "BE_viz.SHO_hist([LSQF_params, adam_params, trust_region_params], filename=f\"Figure_5_52_Histogram_comparison_{noise}_noise\",)"
   ]
  },
  {
   "cell_type": "markdown",
   "metadata": {},
   "source": [
    "**Figure 5.52** Histogram of the fit results based on fits with noise 1 for the a-d. LSQF, e-h. neural network with ADAM, i-l. neural network with trust region optimizers."
   ]
  },
  {
   "cell_type": "code",
   "execution_count": null,
   "metadata": {},
   "outputs": [],
   "source": [
    "LSQF_ = {'resampled': True,\n",
    "                'raw_format': 'complex',\n",
    "                'fitter': 'LSQF',\n",
    "                'scaled': False,\n",
    "                'output_shape': 'index',\n",
    "                'measurement_state': 'all',\n",
    "                'resampled_bins': 165,\n",
    "                'LSQF_phase_shift': 1.5707963267948966,\n",
    "                'NN_phase_shift': None,\n",
    "                'noise': noise}\n",
    "\n",
    "LSQF_Params = dataset.SHO_fit_results(state = LSQF_)\n",
    "\n",
    "adam_params = dataset.SHO_fit_results(model = model_adam, phase_shift = np.pi / 2)\n",
    "\n",
    "trust_region_params = dataset.SHO_fit_results(model = model_trust_region, phase_shift = np.pi / 2)\n",
    "\n",
    "BE_viz.SHO_switching_maps_test([LSQF_Params, adam_params, trust_region_params], filename=f\"Figure_5_53_switching_maps_comparison_{noise}_noise\", labels=[\"LSQF\", \"Adam\", \"SGD\"])"
   ]
  },
  {
   "cell_type": "markdown",
   "metadata": {},
   "source": [
    "**Figure 5.53** Visualize the switching based on the different models on the noisy data. "
   ]
  },
  {
   "cell_type": "code",
   "execution_count": null,
   "metadata": {},
   "outputs": [],
   "source": [
    "BE_viz.SHO_fit_movie_images(noise = noise, \n",
    "                            models = [None, model_adam, model_trust_region],\n",
    "                            scalebar_= True, \n",
    "                            basepath = \"Movies/SHO_NN_compare\",  \n",
    "                            filename=\"SHO_NN_compare\",\n",
    "                            phase_shift = [None, np.pi / 2, np.pi / 2])"
   ]
  },
  {
   "cell_type": "code",
   "execution_count": null,
   "metadata": {},
   "outputs": [],
   "source": []
  },
  {
   "cell_type": "code",
   "execution_count": null,
   "metadata": {},
   "outputs": [],
   "source": []
  }
 ],
 "metadata": {
  "kernelspec": {
   "display_name": "Python 3 (ipykernel)",
   "language": "python",
   "name": "python3"
  },
  "language_info": {
   "codemirror_mode": {
    "name": "ipython",
    "version": 3
   },
   "file_extension": ".py",
   "mimetype": "text/x-python",
   "name": "python",
   "nbconvert_exporter": "python",
   "pygments_lexer": "ipython3",
   "version": "3.11.9"
  }
 },
 "nbformat": 4,
 "nbformat_minor": 4
}
