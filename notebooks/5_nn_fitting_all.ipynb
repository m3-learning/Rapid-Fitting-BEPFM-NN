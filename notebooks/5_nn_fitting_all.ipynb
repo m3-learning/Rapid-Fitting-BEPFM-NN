{
 "cells": [
  {
   "cell_type": "markdown",
   "metadata": {},
   "source": [
    "# Neural Network Fitting and Benchmarking"
   ]
  },
  {
   "cell_type": "markdown",
   "metadata": {},
   "source": [
    "## Imports"
   ]
  },
  {
   "cell_type": "code",
   "execution_count": null,
   "metadata": {},
   "outputs": [],
   "source": [
    "%load_ext autoreload\n",
    "%autoreload 2\n",
    "\n",
    "import os\n",
    "from m3util.viz.printing import printer\n",
    "from m3util.ml.optimizers.TrustRegion import TRCG\n",
    "from m3util.viz.style import set_style\n",
    "from m3util.ml.rand import set_seeds\n",
    "from belearn.dataset.dataset import BE_Dataset\n",
    "from belearn.functions.sho import SHO_nn\n",
    "from belearn.nn.nn import BatchTrainer\n",
    "from belearn.nn.inference import BEInference\n",
    "from datafed_torchflow.datafed import DataFed\n",
    "from datafed_torchflow.pytorch import TorchViewer\n",
    "from datetime import datetime\n",
    "\n",
    "from autophyslearn.postprocessing.complex import ComplexPostProcessor\n",
    "from autophyslearn.spectroscopic.nn import Multiscale1DFitter, Model\n"
   ]
  },
  {
   "cell_type": "code",
   "execution_count": null,
   "metadata": {},
   "outputs": [],
   "source": [
    "os.environ['CUDA_VISIBLE_DEVICES'] = '4'\n",
    "\n",
    "# Specify the filename and the path to save the file\n",
    "filename = \"data_raw.h5\"\n",
    "save_path = \"./Data\"\n",
    "\n",
    "\n",
    "optimizer_TR = {\"name\": \"TRCG\", \"optimizer\": TRCG, \"radius\": 5, \"device\": \"cuda\", \"ADAM_epochs\": 2}\n",
    "optimizers = [ 'Adam', optimizer_TR]\n",
    "noise_list = [0, 1, 2, 3, 4, 5, 6, 7, 8]\n",
    "batch_size = [500, 1000, 5000, 10000]\n",
    "epochs = [5]\n",
    "seed = [41, 43, 44, 45, 46]\n",
    "early_stopping_time = 60*3\n",
    "basepath_postfix = 'nn_benchmarks_noise'\n",
    "\n",
    "# Original filename\n",
    "csv_name = 'nn_benchmarks_noise.csv'\n",
    "\n",
    "printing = printer(basepath='./Figures/')\n",
    "\n",
    "set_style(\"printing\")\n",
    "set_seeds(seed=42)\n",
    "\n",
    "data_path = save_path + \"/\" + filename"
   ]
  },
  {
   "cell_type": "code",
   "execution_count": null,
   "metadata": {},
   "outputs": [],
   "source": [
    "# instantiate the dataset object\n",
    "dataset = BE_Dataset(data_path, SHO_fit_func_LSQF=SHO_nn, datafed = \"2024_SHO_Fitting/Training_Benchmarks_NN_SHO_9_22_2024\")\n",
    "\n",
    "# print the contents of the file\n",
    "dataset.print_be_tree()"
   ]
  },
  {
   "cell_type": "code",
   "execution_count": null,
   "metadata": {},
   "outputs": [],
   "source": [
    "batch_training = True\n",
    "\n",
    "# Get the current date and time\n",
    "current_datetime = datetime.now()\n",
    "\n",
    "# Format the date and time in a 'pretty' format (e.g., YYYY-MM-DD_HH-MM-SS)\n",
    "formatted_datetime = current_datetime.strftime('%Y-%m-%d_%H-%M-%S')\n",
    "\n",
    "basepath = f'{formatted_datetime}_{basepath_postfix}'\n",
    "\n",
    "trainer = BatchTrainer(\n",
    "    dataset=dataset,\n",
    "    optimizers=optimizers,\n",
    "    noise_list=noise_list,\n",
    "    batch_size=batch_size,\n",
    "    epochs=epochs,\n",
    "    seed=seed,\n",
    "    basepath=basepath,\n",
    "    datafed_path=\"2024_SHO_Fitting/Training_Benchmarks_NN_SHO_9_22_2024\",\n",
    "    script_path=f\"{os.getcwd()}/5_nn_fitting_all.ipynb\",\n",
    "    early_stopping_loss=None,\n",
    "    early_stopping_count=None,\n",
    "    early_stopping_time=early_stopping_time,\n",
    "    skip=0,\n",
    "    write_CSV=\"Batch_Trainging_SpeedTest.csv\",\n",
    ")\n",
    "\n",
    "if batch_training == True:\n",
    "    trainer.run_training(dataset) "
   ]
  },
  {
   "cell_type": "code",
   "execution_count": null,
   "metadata": {},
   "outputs": [],
   "source": [
    "## torch_viewer = TorchViewer(\"2024_SHO_Fitting/Training_Benchmarks_NN_SHO\")\n",
    "\n",
    "pd = torch_viewer.getModelCheckpoints()\n",
    "\n",
    "pd.head()"
   ]
  },
  {
   "cell_type": "code",
   "execution_count": null,
   "metadata": {},
   "outputs": [],
   "source": [
    ";'\n",
    "' inference_ = False\n",
    "\n",
    "if inference_: \n",
    "    inference = BEInference(pd, dataset, \n",
    "                df_api=DataFed(\"2024_SHO_Fitting/Training_Benchmarks_NN_SHO\"), \n",
    "                root_directory=\"./Trained Models\")\n",
    "    \n",
    "    inference.run()"
   ]
  },
  {
   "cell_type": "code",
   "execution_count": null,
   "metadata": {},
   "outputs": [],
   "source": [
    "torch_viewer = TorchViewer(\"2024_SHO_Fitting/Training_Benchmarks_NN_SHO\")\n",
    "\n",
    "pd = torch_viewer.getModelCheckpoints()\n",
    "\n",
    "pd.head()"
   ]
  }
 ],
 "metadata": {
  "kernelspec": {
   "display_name": "Python 3 (ipykernel)",
   "language": "python",
   "name": "python3"
  },
  "language_info": {
   "codemirror_mode": {
    "name": "ipython",
    "version": 3
   },
   "file_extension": ".py",
   "mimetype": "text/x-python",
   "name": "python",
   "nbconvert_exporter": "python",
   "pygments_lexer": "ipython3",
   "version": "3.11.9"
  }
 },
 "nbformat": 4,
 "nbformat_minor": 4
}
