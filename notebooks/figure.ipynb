{
 "cells": [
  {
   "cell_type": "code",
   "execution_count": null,
   "metadata": {},
   "outputs": [],
   "source": [
    "import matplotlib.pyplot as plt\n",
    "\n",
    "\n",
    "\n",
    "\n",
    "def display_image(ax, image):\n",
    "    img = mpimg.imread(image_path)\n",
    "    ax.imshow(img)\n",
    "    ax.axis('off')  # Turn off axis for image subplot"
   ]
  },
  {
   "cell_type": "code",
   "execution_count": null,
   "metadata": {},
   "outputs": [],
   "source": [
    "%load_ext autoreload\n",
    "%autoreload 2\n",
    "\n",
    "from m3util.viz.arrows import DrawArrow\n",
    "from m3util.viz.layout import layout_subfigures_inches\n",
    "import matplotlib.pyplot as plt\n",
    "\n",
    "\n",
    "# Dictionary defining the subfigures with positions in inches\n",
    "subfigures_dict = {\n",
    "    \"AFM_Image\": {\n",
    "        \"position\": (0.044, 6.5 - 3.2131, 2.0972, 2.0972),\n",
    "        \"skip_margin\": True,\n",
    "    },\n",
    "    \"real_imag\": {\"position\": (2.2014, 6.5 - 2.1364, 2.0972, 2.0972)},\n",
    "    \"amp_phase\": {\"position\": (4.3588, 6.5 - 2.1364, 2.0972, 2.0972)},\n",
    "    \"BE\": {\"position\": (2.2014, 6.5 - 4.2942, 2.0972, 2.0972)},\n",
    "    \"FFT\": {\"position\": (4.3588, 6.5 - 4.2942, 2.0972, 2.0972)},\n",
    "    \"Bipolar\": {\"position\": (0.0532, 6.5 - 6.4609, 4.2361, 2.0972)},\n",
    "    \"Hysteresis\": {\"position\": (4.3588, 6.5 - 6.4609, 2.0972, 2.0972)},\n",
    "}\n",
    "\n",
    "\n",
    "\n",
    "# Create a custom figure of size (10 inches width, 6 inches height)\n",
    "fig, ax = layout_subfigures_inches(size=(6.5, 6.5), subfigures_dict=subfigures_dict)\n",
    "\n",
    "arrow = DrawArrow(\n",
    "    fig,\n",
    "    start_pos=(1.0926, 6.5 - 1),\n",
    "    end_pos=(2.2014, 6.5-0.4972),\n",
    "    text=\"FFT\",\n",
    "    text_position=\"center\",\n",
    "    text_alignment=\"center\",\n",
    "    vertical_text_displacement=45,\n",
    ")\n",
    "\n",
    "\n",
    "\n",
    "arrow.draw()\n",
    "\n"
   ]
  },
  {
   "cell_type": "code",
   "execution_count": null,
   "metadata": {},
   "outputs": [],
   "source": []
  },
  {
   "cell_type": "code",
   "execution_count": null,
   "metadata": {},
   "outputs": [],
   "source": [
    "arrow._get_text_position()"
   ]
  },
  {
   "cell_type": "code",
   "execution_count": null,
   "metadata": {},
   "outputs": [],
   "source": []
  }
 ],
 "metadata": {
  "kernelspec": {
   "display_name": "Python 3",
   "language": "python",
   "name": "python3"
  },
  "language_info": {
   "codemirror_mode": {
    "name": "ipython",
    "version": 3
   },
   "file_extension": ".py",
   "mimetype": "text/x-python",
   "name": "python",
   "nbconvert_exporter": "python",
   "pygments_lexer": "ipython3",
   "version": "3.11.9"
  }
 },
 "nbformat": 4,
 "nbformat_minor": 2
}
