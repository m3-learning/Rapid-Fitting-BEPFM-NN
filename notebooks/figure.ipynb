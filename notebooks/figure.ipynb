{
 "cells": [
  {
   "cell_type": "code",
   "execution_count": null,
   "metadata": {},
   "outputs": [],
   "source": [
    "%load_ext autoreload\n",
    "%autoreload 2\n",
    "%matplotlib inline\n",
    "\n",
    "from m3util.viz.arrows import DrawArrow\n",
    "from m3util.viz.layout import layout_subfigures_inches\n",
    "from m3util.viz.printing import printer\n",
    "import matplotlib.pyplot as plt\n",
    "from m3util.viz.style import set_style\n",
    "from m3util.viz.images import display_image\n",
    "\n",
    "import matplotlib.image as mpimg\n",
    "from belearn.dataset.dataset import BE_Dataset\n",
    "from m3util.util.IO import download_and_unzip\n",
    "from belearn.viz.viz import Viz\n",
    "\n",
    "set_style(\"printing\")\n",
    "\n",
    "printing = printer(basepath=\"./Figures/\")"
   ]
  },
  {
   "cell_type": "code",
   "execution_count": null,
   "metadata": {},
   "outputs": [],
   "source": [
    "# Download the data file from Zenodo\n",
    "url = 'https://zenodo.org/record/7774788/files/PZT_2080_raw_data.h5?download=1'\n",
    "\n",
    "# Specify the filename and the path to save the file\n",
    "filename = '/data_raw.h5'\n",
    "save_path = './Data'\n",
    "\n",
    "# download the file\n",
    "download_and_unzip(filename, url, save_path)"
   ]
  },
  {
   "cell_type": "code",
   "execution_count": null,
   "metadata": {},
   "outputs": [],
   "source": [
    "data_path = save_path + '/' + filename\n",
    "\n",
    "# instantiate the dataset object\n",
    "dataset = BE_Dataset(data_path)\n",
    "\n",
    "# print the contents of the file\n",
    "dataset.print_be_tree()"
   ]
  },
  {
   "cell_type": "code",
   "execution_count": null,
   "metadata": {},
   "outputs": [],
   "source": [
    "import numpy as np\n",
    "\n",
    "# insatiate the visualization object\n",
    "image_scalebar = [2000, 500, \"nm\", \"br\"]\n",
    "\n",
    "BE_viz = Viz(\n",
    "    dataset,\n",
    "    printing,\n",
    "    verbose=True,\n",
    "    SHO_ranges=[(0, 1.5e-4), (1.31e6, 1.33e6), (-300, 300), (-np.pi, np.pi)],\n",
    "    image_scalebar=image_scalebar,\n",
    ")\n"
   ]
  },
  {
   "cell_type": "code",
   "execution_count": null,
   "metadata": {},
   "outputs": [],
   "source": [
    "prediction = {\"resampled\": False, \"label\": \"Raw\"}\n",
    "\n",
    "\n",
    "BE_viz.raw_data_comparison(prediction, pixel=3000, voltage_step=60, filename=\"Figure_2_1_raw_cantilever_response\")\n"
   ]
  },
  {
   "cell_type": "code",
   "execution_count": null,
   "metadata": {},
   "outputs": [],
   "source": [
    "\n"
   ]
  },
  {
   "cell_type": "code",
   "execution_count": null,
   "metadata": {},
   "outputs": [],
   "source": [
    "from m3util.viz.arrows import DrawArrow\n",
    "from m3util.viz.layout import layout_subfigures_inches\n",
    "import matplotlib.pyplot as plt\n",
    "from m3util.viz.style import set_style\n",
    "\n",
    "\n",
    "pixel = 1500\n",
    "\n",
    "# Dictionary defining the subfigures with positions in inches\n",
    "subfigures_dict = {\n",
    "    \"AFM_Image\": {\n",
    "        \"position\": (0, 6.5 - 3.2131, 2.0972 - 18*2 / 72, 2.0972- 18*2 / 72),\n",
    "        \"skip_margin\": True,\n",
    "    },\n",
    "    \"real_imag\": {\"position\": (2.2014 -(18*2)/72, 6.5 - 2.1364, 2.0972, 2.0972)},\n",
    "    \"amp_phase\": {\"position\": (4.3588, 6.5 - 2.1364, 2.0972, 2.0972)},\n",
    "    \"BE\": {\"position\": (2.2014, 6.5 - 4.2942, 2.0972, 2.0972)},\n",
    "    \"FFT\": {\"position\": (4.3588, 6.5 - 4.2942, 2.0972, 2.0972)},\n",
    "    \"Bipolar\": {\"position\": (0.0532, 6.5 - 6.4609, 4.2361, 2.0972)},\n",
    "    \"Hysteresis\": {\"position\": (4.3588, 6.5 - 6.4609, 2.0972, 2.0972)},\n",
    "}\n",
    "\n",
    "\n",
    "\n",
    "# Create a custom figure of size (10 inches width, 6 inches height)\n",
    "fig, ax = layout_subfigures_inches(size=(6.5, 6.5), subfigures_dict=subfigures_dict)\n",
    "\n",
    "arrow = DrawArrow(\n",
    "    fig,\n",
    "    start_pos=(1.0926 - 2 * 18 / 72, 6.5 - 1 - 2 * 18 / 72),\n",
    "    end_pos=(2.2014 - 2 * 18 / 72, 6.5 - 0.4972 - 2 * 18 / 72),\n",
    "    text=\"FFT\",\n",
    "    text_position=\"center\",\n",
    "    text_alignment=\"center\",\n",
    "    vertical_text_displacement=\"top\",\n",
    ")\n",
    "\n",
    "display_image(ax[\"AFM_Image\"], \"assets/AFM_field.png\")\n",
    "\n",
    "arrow.draw()\n",
    "\n",
    "true = {\"resampled\": False, \"label\": \"Raw\"}\n",
    "\n",
    "BE_viz.plot_real_imainary(ax[\"real_imag\"], true, pixel=3000, voltage_step=60)\n",
    "\n"
   ]
  },
  {
   "cell_type": "code",
   "execution_count": null,
   "metadata": {},
   "outputs": [],
   "source": []
  },
  {
   "cell_type": "code",
   "execution_count": null,
   "metadata": {},
   "outputs": [],
   "source": [
    "arrow._get_text_position()"
   ]
  },
  {
   "cell_type": "code",
   "execution_count": null,
   "metadata": {},
   "outputs": [],
   "source": []
  }
 ],
 "metadata": {
  "kernelspec": {
   "display_name": "Python 3 (ipykernel)",
   "language": "python",
   "name": "python3"
  },
  "language_info": {
   "codemirror_mode": {
    "name": "ipython",
    "version": 3
   },
   "file_extension": ".py",
   "mimetype": "text/x-python",
   "name": "python",
   "nbconvert_exporter": "python",
   "pygments_lexer": "ipython3",
   "version": "3.11.9"
  }
 },
 "nbformat": 4,
 "nbformat_minor": 2
}
